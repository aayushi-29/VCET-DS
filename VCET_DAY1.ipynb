{
  "nbformat": 4,
  "nbformat_minor": 0,
  "metadata": {
    "colab": {
      "provenance": [],
      "authorship_tag": "ABX9TyPfRLYNWfBqpTDE+ceCZwm6",
      "include_colab_link": true
    },
    "kernelspec": {
      "name": "python3",
      "display_name": "Python 3"
    },
    "language_info": {
      "name": "python"
    }
  },
  "cells": [
    {
      "cell_type": "markdown",
      "metadata": {
        "id": "view-in-github",
        "colab_type": "text"
      },
      "source": [
        "<a href=\"https://colab.research.google.com/github/aayushi-29/VCET-DS/blob/main/VCET_DAY1.ipynb\" target=\"_parent\"><img src=\"https://colab.research.google.com/assets/colab-badge.svg\" alt=\"Open In Colab\"/></a>"
      ]
    },
    {
      "cell_type": "code",
      "execution_count": null,
      "metadata": {
        "colab": {
          "base_uri": "https://localhost:8080/"
        },
        "id": "KNgudE-QAaLU",
        "outputId": "f9b6b146-1e0b-4312-96d7-bb3d07a90718"
      },
      "outputs": [
        {
          "output_type": "stream",
          "name": "stdout",
          "text": [
            "<class 'int'>\n",
            "<class 'str'>\n",
            "11\n",
            "92\n"
          ]
        }
      ],
      "source": [
        "x=5\n",
        "m=6\n",
        "y=\"9\"\n",
        "z=\"2\"\n",
        "\n",
        "print(type(x))\n",
        "print(type(y))\n",
        "print(x+m)\n",
        "print(y+z)"
      ]
    },
    {
      "cell_type": "code",
      "source": [
        "#typecasting\n",
        "a=int(z)\n",
        "print(a+m)\n",
        "#a=int(10a) is not allowed"
      ],
      "metadata": {
        "colab": {
          "base_uri": "https://localhost:8080/"
        },
        "id": "fcwMMtY-BMjf",
        "outputId": "8e5162a2-0f1a-4f3f-fd68-1dea516142c1"
      },
      "execution_count": null,
      "outputs": [
        {
          "output_type": "stream",
          "name": "stdout",
          "text": [
            "8\n"
          ]
        }
      ]
    },
    {
      "cell_type": "code",
      "source": [
        "#List     Mutable --> Can be changed\n",
        "l1=['hi',1,7,'list',6.7,9.5,[3,59,'hello']]\n",
        "l2=l1[6][2] #IndexError: list index out of range   if l2=l1[6][5]\n",
        "print(l2)\n",
        "length=len(l1) #length of a list\n",
        "print(length)"
      ],
      "metadata": {
        "colab": {
          "base_uri": "https://localhost:8080/"
        },
        "id": "96sf574xCR9H",
        "outputId": "47a7bbfb-fa89-4a23-971f-682064dded21"
      },
      "execution_count": null,
      "outputs": [
        {
          "output_type": "stream",
          "name": "stdout",
          "text": [
            "hello\n",
            "7\n"
          ]
        }
      ]
    },
    {
      "cell_type": "code",
      "source": [
        "#Python program to illustrate a list\n",
        "#Ceate an empty list\n",
        "\n",
        "nums=[]\n",
        "\n",
        "#Appending data in list\n",
        "nums.append(21)\n",
        "nums.append(49.5)\n",
        "nums.append(\"String\")\n",
        "\n",
        "print(nums)"
      ],
      "metadata": {
        "colab": {
          "base_uri": "https://localhost:8080/"
        },
        "id": "hVe9wQ-zFDeL",
        "outputId": "b083f65f-f8aa-4c48-a213-ab9e445027b8"
      },
      "execution_count": null,
      "outputs": [
        {
          "output_type": "stream",
          "name": "stdout",
          "text": [
            "[21, 49.5, 'String']\n"
          ]
        }
      ]
    },
    {
      "cell_type": "code",
      "source": [
        "#Tuple  (Immutable)\n",
        "\n",
        "t1=[1,2,3,4,6]\n",
        "print(t1)\n"
      ],
      "metadata": {
        "colab": {
          "base_uri": "https://localhost:8080/"
        },
        "id": "7_aBS71RFkNI",
        "outputId": "cefbe73b-6a8a-43cc-ec65-00907f0144f7"
      },
      "execution_count": null,
      "outputs": [
        {
          "output_type": "stream",
          "name": "stdout",
          "text": [
            "[1, 2, 3, 4, 6]\n"
          ]
        }
      ]
    },
    {
      "cell_type": "code",
      "source": [
        "#Dictionry\n",
        "\n",
        "d1={'Name':'SAM', 'Age': 20, 'Proff': 'Student'}\n",
        "\n",
        "print(d1)\n",
        "print(type(d1))\n",
        "print(d1.keys())\n",
        "print(d1.items())\n",
        "print(d1.values())\n",
        "print(d1['Name'])"
      ],
      "metadata": {
        "colab": {
          "base_uri": "https://localhost:8080/"
        },
        "id": "6ybNWh3iF0Iy",
        "outputId": "746e16a3-5034-4204-a4dd-c858d34bb411"
      },
      "execution_count": null,
      "outputs": [
        {
          "output_type": "stream",
          "name": "stdout",
          "text": [
            "{'Name': 'SAM', 'Age': 20, 'Proff': 'Student'}\n",
            "<class 'dict'>\n",
            "dict_keys(['Name', 'Age', 'Proff'])\n",
            "dict_items([('Name', 'SAM'), ('Age', 20), ('Proff', 'Student')])\n",
            "dict_values(['SAM', 20, 'Student'])\n",
            "SAM\n"
          ]
        }
      ]
    },
    {
      "cell_type": "code",
      "source": [
        "#Accepting input from user\n",
        "\n",
        "num1= int(input(\"Enter num1:\"))\n",
        "num2= int(input(\"Enter num2:\"))\n",
        "\n",
        "num3= num1*num2\n",
        "print(\"Product is: \",num3)\n"
      ],
      "metadata": {
        "colab": {
          "base_uri": "https://localhost:8080/"
        },
        "id": "qzBGu9SZHHqg",
        "outputId": "b7b0dc63-2b86-4325-97da-038e1f1bc9b7"
      },
      "execution_count": null,
      "outputs": [
        {
          "output_type": "stream",
          "name": "stdout",
          "text": [
            "Enter num1:12\n",
            "Enter num2:252\n",
            "Product is:  3024\n"
          ]
        }
      ]
    },
    {
      "cell_type": "code",
      "source": [
        "num1= int(input(\"Enter num1:\"))\n",
        "if(num1>12):\n",
        "  print(\"num1 is good\")\n",
        "elif(num1>35):\n",
        "  print(\"num1 is not good\")\n",
        "else:\n",
        "  print(\"num1 is great!!\")\n"
      ],
      "metadata": {
        "colab": {
          "base_uri": "https://localhost:8080/"
        },
        "id": "Sh4GFh32H5jv",
        "outputId": "38dbb0eb-bc70-40a7-fd54-95215d47c212"
      },
      "execution_count": null,
      "outputs": [
        {
          "output_type": "stream",
          "name": "stdout",
          "text": [
            "Enter num1:37\n",
            "num1 is good\n"
          ]
        }
      ]
    }
  ]
}