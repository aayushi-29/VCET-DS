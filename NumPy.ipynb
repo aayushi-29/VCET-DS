{
  "nbformat": 4,
  "nbformat_minor": 0,
  "metadata": {
    "colab": {
      "provenance": [],
      "authorship_tag": "ABX9TyMJXIZf19AxxU3Lqxclc6Be",
      "include_colab_link": true
    },
    "kernelspec": {
      "name": "python3",
      "display_name": "Python 3"
    },
    "language_info": {
      "name": "python"
    }
  },
  "cells": [
    {
      "cell_type": "markdown",
      "metadata": {
        "id": "view-in-github",
        "colab_type": "text"
      },
      "source": [
        "<a href=\"https://colab.research.google.com/github/aayushi-29/VCET-DS/blob/main/NumPy.ipynb\" target=\"_parent\"><img src=\"https://colab.research.google.com/assets/colab-badge.svg\" alt=\"Open In Colab\"/></a>"
      ]
    },
    {
      "cell_type": "code",
      "execution_count": null,
      "metadata": {
        "colab": {
          "base_uri": "https://localhost:8080/"
        },
        "id": "C7mqOoN1o6c_",
        "outputId": "704a184a-3369-4786-c50d-789049c501e2"
      },
      "outputs": [
        {
          "output_type": "stream",
          "name": "stdout",
          "text": [
            "Array is of type:  <class 'numpy.ndarray'>\n",
            "No. of dimensions:  2\n",
            "Shape of array:  (2, 3)\n",
            "Size of array:  6\n",
            "Array stores elements of type:  int64\n"
          ]
        }
      ],
      "source": [
        "import numpy as np\n",
        "\n",
        "arr = np.array( [[ 1, 2, 3],\n",
        "\t\t\t\t[ 4, 2, 5]] )\n",
        "\n",
        "# Printing type of arr object\n",
        "print(\"Array is of type: \", type(arr))\n",
        "\n",
        "# Printing array dimensions (axes)\n",
        "print(\"No. of dimensions: \", arr.ndim)\n",
        "\n",
        "# Printing shape of array\n",
        "print(\"Shape of array: \", arr.shape)\n",
        "\n",
        "# Printing size (total number of elements) of array\n",
        "print(\"Size of array: \", arr.size)\n",
        "\n",
        "# Printing type of elements in array\n",
        "print(\"Array stores elements of type: \", arr.dtype)"
      ]
    },
    {
      "cell_type": "code",
      "source": [
        "# Creation of Arrays\n",
        "import numpy as np\n",
        "\n",
        "# Creating a rank 1 Array\n",
        "arr = np.array([1, 2, 3])\n",
        "print(\"Array with Rank 1: \\n\",arr)\n",
        "\n",
        "# Creating a rank 2 Array\n",
        "arr = np.array([[1, 2, 3],\n",
        "                [4, 5, 6]])\n",
        "print(\"Array with Rank 2: \\n\", arr)\n",
        "\n",
        "# Creating an array from tuple\n",
        "arr = np.array((1, 3, 2))\n",
        "print(\"\\nArray created using \"\n",
        "      \"passed tuple:\\n\", arr)"
      ],
      "metadata": {
        "colab": {
          "base_uri": "https://localhost:8080/"
        },
        "id": "Duz2cAicpLSF",
        "outputId": "e6329599-5245-4c97-d4b2-876d419c37df"
      },
      "execution_count": null,
      "outputs": [
        {
          "output_type": "stream",
          "name": "stdout",
          "text": [
            "Array with Rank 1: \n",
            " [1 2 3]\n",
            "Array with Rank 2: \n",
            " [[1 2 3]\n",
            " [4 5 6]]\n",
            "\n",
            "Array created using passed tuple:\n",
            " [1 3 2]\n"
          ]
        }
      ]
    },
    {
      "cell_type": "code",
      "source": [
        "# Let's define our function\n",
        "def sum(array):\n",
        "\n",
        "\tsum = 0\n",
        "\n",
        "\tfor i in array:\n",
        "\n",
        "\t\tsum += i\n",
        "\n",
        "\treturn sum\n",
        "\n",
        "\n",
        "# Create a test array\n",
        "testArray = [1, 3, 34, 92, 29, 48, 20.3]\n",
        "\n",
        "# Test our function\n",
        "print('The sum of your numbers is ' + str(sum(testArray)))\n"
      ],
      "metadata": {
        "colab": {
          "base_uri": "https://localhost:8080/"
        },
        "id": "uD9oic1TpYDa",
        "outputId": "e0b76c54-b7c2-451f-9251-ca8496d4476d"
      },
      "execution_count": null,
      "outputs": [
        {
          "output_type": "stream",
          "name": "stdout",
          "text": [
            "The sum of your numbers is 227.3\n"
          ]
        }
      ]
    },
    {
      "cell_type": "code",
      "source": [
        "import numpy as np\n",
        "# Create a sequence of integers from 10 to 1 with a step of -2\n",
        "a = np.arange(10, 1, -2)\n",
        "print(\"\\n A sequential array with a negative step: \\n\",a)\n",
        "\n",
        "newarr = a[np.array([3, 1, 2 ])]\n",
        "print(\"\\n Elements at these indices are:\\n\",newarr)\n"
      ],
      "metadata": {
        "colab": {
          "base_uri": "https://localhost:8080/"
        },
        "id": "OVzi8u-Kplew",
        "outputId": "8f8fa63d-b0d4-4f12-85c8-79d4f75c8e1f"
      },
      "execution_count": null,
      "outputs": [
        {
          "output_type": "stream",
          "name": "stdout",
          "text": [
            "\n",
            " A sequential array with a negative step: \n",
            " [10  8  6  4  2]\n",
            "\n",
            " Elements at these indices are:\n",
            " [4 8 6]\n"
          ]
        }
      ]
    },
    {
      "cell_type": "code",
      "source": [
        "#The result includes the start index, but excludes the end index\n",
        "import numpy as np\n",
        "\n",
        "arr = np.array([1, 2, 3, 4, 5, 6, 7])\n",
        "\n",
        "print(arr[1:5])\n",
        "print(arr[4:])\n",
        "print(arr[:4])\n",
        "print(arr[-3:-1])\n",
        "print(arr[1:5:2])\n",
        "print(arr[::2])"
      ],
      "metadata": {
        "colab": {
          "base_uri": "https://localhost:8080/"
        },
        "id": "vJBLk9xopsPi",
        "outputId": "44068646-7e81-4d92-fe96-c0c4e00e67da"
      },
      "execution_count": null,
      "outputs": [
        {
          "output_type": "stream",
          "name": "stdout",
          "text": [
            "[2 3 4 5]\n",
            "[5 6 7]\n",
            "[1 2 3 4]\n",
            "[5 6]\n",
            "[2 4]\n",
            "[1 3 5 7]\n"
          ]
        }
      ]
    },
    {
      "cell_type": "code",
      "source": [
        "import numpy as np\n",
        "\n",
        "arr = np.array([[1, 2, 3, 4, 5], [6, 7, 8, 9, 10]])\n",
        "\n",
        "print(arr[1, 1:4])\n",
        "print(arr[0:2, 2])\n",
        "print(arr[0:2, 1:4])"
      ],
      "metadata": {
        "colab": {
          "base_uri": "https://localhost:8080/"
        },
        "id": "_MyArMHVpxIJ",
        "outputId": "165ced28-6d45-41fa-c5fe-e4b2b474a2a2"
      },
      "execution_count": null,
      "outputs": [
        {
          "output_type": "stream",
          "name": "stdout",
          "text": [
            "[7 8 9]\n",
            "[3 8]\n",
            "[[2 3 4]\n",
            " [7 8 9]]\n"
          ]
        }
      ]
    },
    {
      "cell_type": "code",
      "source": [
        "#The copy\n",
        "import numpy as np\n",
        "\n",
        "arr = np.array([1, 2, 3, 4, 5])\n",
        "x = arr.copy()\n",
        "arr[0] = 42\n",
        "\n",
        "print(arr)\n",
        "print(x)"
      ],
      "metadata": {
        "colab": {
          "base_uri": "https://localhost:8080/"
        },
        "id": "qpFzwWchp45_",
        "outputId": "e0458b1e-691f-40bc-b949-c5533815cbe8"
      },
      "execution_count": null,
      "outputs": [
        {
          "output_type": "stream",
          "name": "stdout",
          "text": [
            "[42  2  3  4  5]\n",
            "[1 2 3 4 5]\n"
          ]
        }
      ]
    },
    {
      "cell_type": "code",
      "source": [
        "#The view\n",
        "import numpy as np\n",
        "\n",
        "arr = np.array([1, 2, 3, 4, 5])\n",
        "x = arr.view()\n",
        "arr[0] = 42\n",
        "\n",
        "print(arr)\n",
        "print(x)"
      ],
      "metadata": {
        "colab": {
          "base_uri": "https://localhost:8080/"
        },
        "id": "WHvB7AcjqAgT",
        "outputId": "6d4fb957-e52f-4191-e1d3-4e86bb206b00"
      },
      "execution_count": null,
      "outputs": [
        {
          "output_type": "stream",
          "name": "stdout",
          "text": [
            "[42  2  3  4  5]\n",
            "[42  2  3  4  5]\n"
          ]
        }
      ]
    },
    {
      "cell_type": "code",
      "source": [
        "import numpy as np\n",
        "\n",
        "arr = np.array([1, 2, 3, 4, 5])\n",
        "x = arr.view()\n",
        "x[0] = 31\n",
        "\n",
        "print(arr)\n",
        "print(x)"
      ],
      "metadata": {
        "colab": {
          "base_uri": "https://localhost:8080/"
        },
        "id": "gGT60_NLqI_C",
        "outputId": "378c2a4c-0e06-47a9-fb14-01d9e4864da3"
      },
      "execution_count": null,
      "outputs": [
        {
          "output_type": "stream",
          "name": "stdout",
          "text": [
            "[31  2  3  4  5]\n",
            "[31  2  3  4  5]\n"
          ]
        }
      ]
    },
    {
      "cell_type": "code",
      "source": [
        "import numpy as np\n",
        "\n",
        "arr = np.array([1, 2, 3, 4, 5])\n",
        "\n",
        "x = arr.copy()\n",
        "y = arr.view()\n",
        "\n",
        "print(x.base)\n",
        "print(y.base)"
      ],
      "metadata": {
        "colab": {
          "base_uri": "https://localhost:8080/"
        },
        "id": "272yXuXuqNPx",
        "outputId": "246ea3b9-40a6-4e58-e0c5-714a3d6d27c7"
      },
      "execution_count": null,
      "outputs": [
        {
          "output_type": "stream",
          "name": "stdout",
          "text": [
            "None\n",
            "[1 2 3 4 5]\n"
          ]
        }
      ]
    },
    {
      "cell_type": "code",
      "source": [
        "import numpy as np\n",
        "\n",
        "arr = np.array([[1, 2, 3, 4], [5, 6, 7, 8]])\n",
        "\n",
        "print(arr.shape)"
      ],
      "metadata": {
        "colab": {
          "base_uri": "https://localhost:8080/"
        },
        "id": "B2KFo4fSqXPx",
        "outputId": "f3e5aac8-7989-4135-c8a9-12f439b46f87"
      },
      "execution_count": null,
      "outputs": [
        {
          "output_type": "stream",
          "name": "stdout",
          "text": [
            "(2, 4)\n"
          ]
        }
      ]
    },
    {
      "cell_type": "code",
      "source": [
        "# Create an array with 5 dimensions using ndmin\n",
        "\n",
        "import numpy as np\n",
        "\n",
        "arr = np.array([1, 2, 3, 4], ndmin=5)\n",
        "\n",
        "print(arr)\n",
        "print('shape of array :', arr.shape)"
      ],
      "metadata": {
        "colab": {
          "base_uri": "https://localhost:8080/"
        },
        "id": "pwWvVIGJqYYG",
        "outputId": "90ccee70-c5e7-4ffc-964d-55f3079b5083"
      },
      "execution_count": null,
      "outputs": [
        {
          "output_type": "stream",
          "name": "stdout",
          "text": [
            "[[[[[1 2 3 4]]]]]\n",
            "shape of array : (1, 1, 1, 1, 4)\n"
          ]
        }
      ]
    },
    {
      "cell_type": "code",
      "source": [
        "#Convert the following 1-D array with 12 elements into a 2-D array.\n",
        "\n",
        "#The outermost dimension will have 4 arrays, each with 3 elements:\n",
        "import numpy as np\n",
        "\n",
        "arr = np.array([1, 2, 3, 4, 5, 6, 7, 8, 9, 10, 11, 12])\n",
        "\n",
        "newarr = arr.reshape(4, 3)\n",
        "\n",
        "print(newarr)\n",
        "\n",
        "#The outermost dimension will have 2 arrays that contains 3 arrays, each with 2 elements:\n",
        "newarr = arr.reshape(2, 3, 2)\n",
        "print(newarr)"
      ],
      "metadata": {
        "colab": {
          "base_uri": "https://localhost:8080/"
        },
        "id": "re4rTBP1qfNl",
        "outputId": "e7aab4da-bc90-45b9-ba6c-4b5fc18b0f20"
      },
      "execution_count": null,
      "outputs": [
        {
          "output_type": "stream",
          "name": "stdout",
          "text": [
            "[[ 1  2  3]\n",
            " [ 4  5  6]\n",
            " [ 7  8  9]\n",
            " [10 11 12]]\n",
            "[[[ 1  2]\n",
            "  [ 3  4]\n",
            "  [ 5  6]]\n",
            "\n",
            " [[ 7  8]\n",
            "  [ 9 10]\n",
            "  [11 12]]]\n"
          ]
        }
      ]
    },
    {
      "cell_type": "code",
      "source": [
        "# Python code to demonstrate matrix operations\n",
        "# add(), subtract() and divide()\n",
        "\n",
        "# importing numpy for matrix operations\n",
        "import numpy\n",
        "\n",
        "# initializing matrices\n",
        "x = numpy.array([[1, 2], [4, 5]])\n",
        "y = numpy.array([[7, 8], [9, 10]])\n",
        "\n",
        "# using add() to add matrices\n",
        "print (\"The element wise addition of matrix is : \")\n",
        "print (numpy.add(x,y))\n",
        "\n",
        "# using subtract() to subtract matrices\n",
        "print (\"The element wise subtraction of matrix is : \")\n",
        "print (numpy.subtract(x,y))\n",
        "\n",
        "# using divide() to divide matrices\n",
        "print (\"The element wise division of matrix is : \")\n",
        "print (numpy.divide(x,y))"
      ],
      "metadata": {
        "colab": {
          "base_uri": "https://localhost:8080/"
        },
        "id": "5WVa7Hgpqp3k",
        "outputId": "36d033c1-819a-486f-e8e7-99ec275b84ba"
      },
      "execution_count": null,
      "outputs": [
        {
          "output_type": "stream",
          "name": "stdout",
          "text": [
            "The element wise addition of matrix is : \n",
            "[[ 8 10]\n",
            " [13 15]]\n",
            "The element wise subtraction of matrix is : \n",
            "[[-6 -6]\n",
            " [-5 -5]]\n",
            "The element wise division of matrix is : \n",
            "[[0.14285714 0.25      ]\n",
            " [0.44444444 0.5       ]]\n"
          ]
        }
      ]
    }
  ]
}