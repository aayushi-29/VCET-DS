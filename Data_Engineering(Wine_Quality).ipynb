{
  "nbformat": 4,
  "nbformat_minor": 0,
  "metadata": {
    "colab": {
      "provenance": [],
      "authorship_tag": "ABX9TyN2pKxuVa4RmcQ1MeONRtF9",
      "include_colab_link": true
    },
    "kernelspec": {
      "name": "python3",
      "display_name": "Python 3"
    },
    "language_info": {
      "name": "python"
    }
  },
  "cells": [
    {
      "cell_type": "markdown",
      "metadata": {
        "id": "view-in-github",
        "colab_type": "text"
      },
      "source": [
        "<a href=\"https://colab.research.google.com/github/aayushi-29/VCET-DS/blob/main/Data_Engineering(Wine_Quality).ipynb\" target=\"_parent\"><img src=\"https://colab.research.google.com/assets/colab-badge.svg\" alt=\"Open In Colab\"/></a>"
      ]
    },
    {
      "cell_type": "code",
      "source": [
        "import pandas as pd\n",
        "#pd is an Alias\n",
        "\n",
        "#Dealing with Missing Values\n",
        "#Dealing with outliers\n",
        "#Converting into categorical or numerical\n",
        "#Dealing with Imbalance\n",
        "#Feature selection\n",
        "#Dimentionality Reduction\n",
        "\n",
        "df=pd.read_csv(\"winequalityN.csv\")\n",
        "\n",
        "#Preparing X and Y\n",
        "\n",
        "X = df.drop('type', axis=1)\n",
        "X = X.drop('quality', axis=1)\n",
        "Y = df['quality']\n",
        "print(X)\n",
        "print(Y)"
      ],
      "metadata": {
        "colab": {
          "base_uri": "https://localhost:8080/"
        },
        "id": "jp5IW5oCkw_C",
        "outputId": "936c287b-6a95-4439-ac50-86bcb1b01502"
      },
      "execution_count": null,
      "outputs": [
        {
          "output_type": "stream",
          "name": "stdout",
          "text": [
            "      fixed acidity  volatile acidity  citric acid  residual sugar  chlorides  \\\n",
            "0               7.0             0.270         0.36            20.7      0.045   \n",
            "1               6.3             0.300         0.34             1.6      0.049   \n",
            "2               8.1             0.280         0.40             6.9      0.050   \n",
            "3               7.2             0.230         0.32             8.5      0.058   \n",
            "4               7.2             0.230         0.32             8.5      0.058   \n",
            "...             ...               ...          ...             ...        ...   \n",
            "6492            6.2             0.600         0.08             2.0      0.090   \n",
            "6493            5.9             0.550         0.10             2.2      0.062   \n",
            "6494            6.3             0.510         0.13             2.3      0.076   \n",
            "6495            5.9             0.645         0.12             2.0      0.075   \n",
            "6496            6.0             0.310         0.47             3.6      0.067   \n",
            "\n",
            "      free sulfur dioxide  total sulfur dioxide  density    pH  sulphates  \\\n",
            "0                    45.0                 170.0  1.00100  3.00       0.45   \n",
            "1                    14.0                 132.0  0.99400  3.30       0.49   \n",
            "2                    30.0                  97.0  0.99510  3.26       0.44   \n",
            "3                    47.0                 186.0  0.99560  3.19       0.40   \n",
            "4                    47.0                 186.0  0.99560  3.19       0.40   \n",
            "...                   ...                   ...      ...   ...        ...   \n",
            "6492                 32.0                  44.0  0.99490  3.45       0.58   \n",
            "6493                 39.0                  51.0  0.99512  3.52        NaN   \n",
            "6494                 29.0                  40.0  0.99574  3.42       0.75   \n",
            "6495                 32.0                  44.0  0.99547  3.57       0.71   \n",
            "6496                 18.0                  42.0  0.99549  3.39       0.66   \n",
            "\n",
            "      alcohol  \n",
            "0         8.8  \n",
            "1         9.5  \n",
            "2        10.1  \n",
            "3         9.9  \n",
            "4         9.9  \n",
            "...       ...  \n",
            "6492     10.5  \n",
            "6493     11.2  \n",
            "6494     11.0  \n",
            "6495     10.2  \n",
            "6496     11.0  \n",
            "\n",
            "[6497 rows x 11 columns]\n",
            "0       6\n",
            "1       6\n",
            "2       6\n",
            "3       6\n",
            "4       6\n",
            "       ..\n",
            "6492    5\n",
            "6493    6\n",
            "6494    6\n",
            "6495    5\n",
            "6496    6\n",
            "Name: quality, Length: 6497, dtype: int64\n"
          ]
        }
      ]
    },
    {
      "cell_type": "code",
      "execution_count": null,
      "metadata": {
        "colab": {
          "base_uri": "https://localhost:8080/"
        },
        "id": "NZv6BlnKksJ7",
        "outputId": "46850aa6-2793-4d7a-f325-6bea420f9b86"
      },
      "outputs": [
        {
          "output_type": "stream",
          "name": "stdout",
          "text": [
            "                   Specs        Score\n",
            "0          fixed acidity    11.133107\n",
            "1       volatile acidity    42.573553\n",
            "2            citric acid     3.690176\n",
            "3         residual sugar   224.945652\n",
            "4              chlorides     6.388241\n",
            "5    free sulfur dioxide   913.332832\n",
            "6   total sulfur dioxide  1269.974108\n",
            "7                density     0.006600\n",
            "8                     pH     0.096622\n",
            "9              sulphates     1.090422\n",
            "10               alcohol   201.369195\n"
          ]
        }
      ],
      "source": [
        "# Feature Selection 1\n",
        "from sklearn.feature_selection import SelectKBest\n",
        "from sklearn.feature_selection import chi2\n",
        "from sklearn.impute import SimpleImputer # Import the SimpleImputer\n",
        "\n",
        "# Impute missing values (replace NaNs)\n",
        "imputer = SimpleImputer(strategy='mean')  # Replace with your desired strategy\n",
        "X_imputed = imputer.fit_transform(X)\n",
        "\n",
        "bestfeatures = SelectKBest(score_func=chi2, k='all')\n",
        "fit = bestfeatures.fit(X_imputed, Y)  # Use the imputed data\n",
        "dfscores = pd.DataFrame(fit.scores_)\n",
        "dfcolumns = pd.DataFrame(X.columns)\n",
        "featuresScores = pd.concat([dfcolumns, dfscores], axis=1)\n",
        "featuresScores.columns = ['Specs', 'Score']\n",
        "\n",
        "print(featuresScores)"
      ]
    },
    {
      "cell_type": "code",
      "source": [
        "#Feature Selection 2\n",
        "\n",
        "from sklearn.ensemble import ExtraTreesClassifier\n",
        "import matplotlib.pyplot as plt\n",
        "import pandas as pd # Import pandas for DataFrame handling\n",
        "from sklearn.preprocessing import LabelEncoder # Import LabelEncoder for encoding categorical variables\n",
        "\n",
        "model = ExtraTreesClassifier()\n",
        "\n",
        "# Assuming X contains categorical features, encode them using LabelEncoder\n",
        "le = LabelEncoder()\n",
        "X_encoded = X.apply(le.fit_transform) # Apply LabelEncoder to all columns in X\n",
        "\n",
        "model.fit(X_encoded,Y) # Fit the model with encoded features\n",
        "print(model.feature_importances_)\n",
        "\n",
        "feat_importance = pd.Series(model.feature_importances_, index=X_encoded.columns) # Use encoded column names\n",
        "feat_importance.nlargest(4).plot(kind='pie', autopct='%1.1f%%')\n",
        "#plot(kind='box')\n",
        "# plot(kind='area')\n",
        "# plot(kind='line', marker='o')\n",
        "plt.show()"
      ],
      "metadata": {
        "colab": {
          "base_uri": "https://localhost:8080/",
          "height": 441
        },
        "id": "YXCSkdlDlpBV",
        "outputId": "0da92267-90fb-4c48-cbde-51107a5c576b"
      },
      "execution_count": null,
      "outputs": [
        {
          "output_type": "stream",
          "name": "stdout",
          "text": [
            "[0.07772808 0.10012247 0.08219669 0.08504296 0.08193185 0.08638954\n",
            " 0.08654035 0.09549657 0.08204917 0.08578618 0.13671613]\n"
          ]
        },
        {
          "output_type": "display_data",
          "data": {
            "text/plain": [
              "<Figure size 640x480 with 1 Axes>"
            ],
            "image/png": "[encoded data removed]"
          },
          "metadata": {}
        }
      ]
    },
    {
      "cell_type": "code",
      "source": [
        "#Numerical to Categorical\n",
        "\n",
        "from sklearn.preprocessing import LabelEncoder\n",
        "\n",
        "\n",
        "df['fixed acidity']=pd.cut(df['fixed acidity'],3,labels=['0','1','2'])\n",
        "df['volatile acidity']=pd.cut(df['volatile acidity'],3,labels=['0','1','2'])\n",
        "df['citric acid']=pd.cut(df['citric acid'],3,labels=['0','1','2'])\n",
        "df['residual sugar']=pd.cut(df['residual sugar'],3,labels=['0','1','2'])\n",
        "\n",
        "print(df)\n",
        "\n",
        "X = df.drop('type', axis=1)\n",
        "X = X.drop('quality', axis=1)\n",
        "Y = df['quality']\n",
        "print(Y)\n",
        "le=LabelEncoder()\n",
        "le.fit(Y)\n",
        "Y = le.transform(Y)\n",
        "print(Y)\n"
      ],
      "metadata": {
        "colab": {
          "base_uri": "https://localhost:8080/"
        },
        "id": "syoZU9vjl4Og",
        "outputId": "1548deda-0c77-40ca-dcce-2685dc69d626"
      },
      "execution_count": null,
      "outputs": [
        {
          "output_type": "stream",
          "name": "stdout",
          "text": [
            "       type fixed acidity volatile acidity citric acid residual sugar  \\\n",
            "0     white             0                0           0              0   \n",
            "1     white             0                0           0              0   \n",
            "2     white             1                0           0              0   \n",
            "3     white             0                0           0              0   \n",
            "4     white             0                0           0              0   \n",
            "...     ...           ...              ...         ...            ...   \n",
            "6492    red             0                1           0              0   \n",
            "6493    red             0                0           0              0   \n",
            "6494    red             0                0           0              0   \n",
            "6495    red             0                1           0              0   \n",
            "6496    red             0                0           0              0   \n",
            "\n",
            "      chlorides  free sulfur dioxide  total sulfur dioxide  density    pH  \\\n",
            "0         0.045                 45.0                 170.0  1.00100  3.00   \n",
            "1         0.049                 14.0                 132.0  0.99400  3.30   \n",
            "2         0.050                 30.0                  97.0  0.99510  3.26   \n",
            "3         0.058                 47.0                 186.0  0.99560  3.19   \n",
            "4         0.058                 47.0                 186.0  0.99560  3.19   \n",
            "...         ...                  ...                   ...      ...   ...   \n",
            "6492      0.090                 32.0                  44.0  0.99490  3.45   \n",
            "6493      0.062                 39.0                  51.0  0.99512  3.52   \n",
            "6494      0.076                 29.0                  40.0  0.99574  3.42   \n",
            "6495      0.075                 32.0                  44.0  0.99547  3.57   \n",
            "6496      0.067                 18.0                  42.0  0.99549  3.39   \n",
            "\n",
            "      sulphates  alcohol  quality  \n",
            "0          0.45      8.8        6  \n",
            "1          0.49      9.5        6  \n",
            "2          0.44     10.1        6  \n",
            "3          0.40      9.9        6  \n",
            "4          0.40      9.9        6  \n",
            "...         ...      ...      ...  \n",
            "6492       0.58     10.5        5  \n",
            "6493        NaN     11.2        6  \n",
            "6494       0.75     11.0        6  \n",
            "6495       0.71     10.2        5  \n",
            "6496       0.66     11.0        6  \n",
            "\n",
            "[6497 rows x 13 columns]\n",
            "0       6\n",
            "1       6\n",
            "2       6\n",
            "3       6\n",
            "4       6\n",
            "       ..\n",
            "6492    5\n",
            "6493    6\n",
            "6494    6\n",
            "6495    5\n",
            "6496    6\n",
            "Name: quality, Length: 6497, dtype: int64\n",
            "[3 3 3 ... 3 2 3]\n"
          ]
        }
      ]
    },
    {
      "cell_type": "code",
      "source": [
        "#Categorical to Numerical\n",
        "le=LabelEncoder()\n",
        "le.fit(Y)\n",
        "Y = le.transform(Y)\n",
        "print(Y)"
      ],
      "metadata": {
        "colab": {
          "base_uri": "https://localhost:8080/"
        },
        "id": "ifHLfbMGmnMX",
        "outputId": "988af0c2-cedd-43db-948f-a361cc25c21f"
      },
      "execution_count": null,
      "outputs": [
        {
          "output_type": "stream",
          "name": "stdout",
          "text": [
            "[3 3 3 ... 3 2 3]\n"
          ]
        }
      ]
    },
    {
      "cell_type": "code",
      "source": [
        "#Dealing with missing values\n",
        "\n",
        "print(df.isnull().sum())\n",
        "\n",
        "# If there are missing values in numerical columns like 'fixed acidity', you can impute them:\n",
        "# df['fixed acidity'].fillna(df['fixed acidity'].mean(), inplace=True)  # This line causes the error\n",
        "# Instead of calculating the mean on categorical data, you might want to use mode to fill missing values:\n",
        "df['fixed acidity'].fillna(df['fixed acidity'].mode()[0], inplace=True)\n",
        "\n",
        "# If there are missing values in categorical columns like 'Species', you can impute them:\n",
        "df['quality'].fillna(df['quality'].mode()[0], inplace=True)"
      ],
      "metadata": {
        "colab": {
          "base_uri": "https://localhost:8080/"
        },
        "id": "uM_tfmvGm3Fe",
        "outputId": "4bc5842e-96b5-4fc2-b341-fe52c3b56e5d"
      },
      "execution_count": null,
      "outputs": [
        {
          "output_type": "stream",
          "name": "stdout",
          "text": [
            "type                     0\n",
            "fixed acidity           10\n",
            "volatile acidity         8\n",
            "citric acid              3\n",
            "residual sugar           2\n",
            "chlorides                2\n",
            "free sulfur dioxide      0\n",
            "total sulfur dioxide     0\n",
            "density                  0\n",
            "pH                       9\n",
            "sulphates                4\n",
            "alcohol                  0\n",
            "quality                  0\n",
            "dtype: int64\n"
          ]
        }
      ]
    },
    {
      "cell_type": "code",
      "source": [
        "import pandas as pd\n",
        "\n",
        "# Sample DataFrame (you can replace this with your actual DataFrame)\n",
        "# df = pd.read_csv('your_file.csv') # If reading from a CSV file\n",
        "\n",
        "# Print the count of missing values for each column\n",
        "print(\"Missing values count before imputation:\")\n",
        "print(df.isnull().sum())\n",
        "\n",
        "# Check if 'Item_Weight' is in the DataFrame columns\n",
        "if 'Item_Weight' in df.columns:\n",
        "    # Imputing numerical values (choose one method: mean, median, or mode)\n",
        "    # Method: Mean\n",
        "    df['Item_Weight'].fillna(df['Item_Weight'].mean(), inplace=True)\n",
        "else:\n",
        "    print(\"Column 'Item_Weight' not found in the DataFrame.\")\n",
        "\n",
        "# Similarly, check if 'Outlet_Size' exists before imputing\n",
        "if 'Outlet_Size' in df.columns:\n",
        "    # Imputing categorical values with a specific value, e.g., 'Medium'\n",
        "    df['Outlet_Size'].fillna('Medium', inplace=True)\n",
        "else:\n",
        "    print(\"Column 'Outlet_Size' not found in the DataFrame.\")\n",
        "\n",
        "# Print the count of missing values after imputation\n",
        "print(\"Missing values count after imputation:\")\n",
        "print(df.isnull().sum())"
      ],
      "metadata": {
        "colab": {
          "base_uri": "https://localhost:8080/"
        },
        "id": "oJjClYtknFBB",
        "outputId": "fd09c889-d869-4cec-9868-5a417da8f3d5"
      },
      "execution_count": null,
      "outputs": [
        {
          "output_type": "stream",
          "name": "stdout",
          "text": [
            "Missing values count before imputation:\n",
            "type                    0\n",
            "fixed acidity           0\n",
            "volatile acidity        8\n",
            "citric acid             3\n",
            "residual sugar          2\n",
            "chlorides               2\n",
            "free sulfur dioxide     0\n",
            "total sulfur dioxide    0\n",
            "density                 0\n",
            "pH                      9\n",
            "sulphates               4\n",
            "alcohol                 0\n",
            "quality                 0\n",
            "dtype: int64\n",
            "Column 'Item_Weight' not found in the DataFrame.\n",
            "Column 'Outlet_Size' not found in the DataFrame.\n",
            "Missing values count after imputation:\n",
            "type                    0\n",
            "fixed acidity           0\n",
            "volatile acidity        8\n",
            "citric acid             3\n",
            "residual sugar          2\n",
            "chlorides               2\n",
            "free sulfur dioxide     0\n",
            "total sulfur dioxide    0\n",
            "density                 0\n",
            "pH                      9\n",
            "sulphates               4\n",
            "alcohol                 0\n",
            "quality                 0\n",
            "dtype: int64\n"
          ]
        }
      ]
    },
    {
      "source": [
        "#Oversampling and Under Sampling\n",
        "\n",
        "#a = (df['Species'] == 'Iris-setosa').sum()\n",
        "#print(a)\n",
        "print(df.isnull().sum())\n",
        "df['fixed acidity'].fillna(df['fixed acidity'].mode()[0], inplace=True)\n",
        "from collections import Counter\n",
        "print(Counter(Y))\n",
        "from imblearn.over_sampling import RandomOverSampler     #Random OverSampling\n",
        "ros=RandomOverSampler(random_state=0)\n",
        "X, Y = ros.fit_resample(X,Y)\n",
        "print(Counter(Y))\n",
        "\n",
        "from imblearn.over_sampling import SMOTE                 #Synthetic Minority Oversampling (SMOTE) oversampling\n",
        "sms=SMOTE(random_state=0)\n",
        "# Fill any remaining NaNs in the entire DataFrame X before applying SMOTE\n",
        "X = X.fillna(X.mode().iloc[0]) # Fill NaNs with the mode of each column\n",
        "X, Y=sms.fit_resample(X,Y) # Now X should not contain NaNs\n",
        "\n",
        "from imblearn.under_sampling import RandomUnderSampler   #Random UnderSampling\n",
        "rus=RandomUnderSampler(random_state=0)\n",
        "X, Y=rus.fit_resample(X,Y)"
      ],
      "cell_type": "code",
      "metadata": {
        "colab": {
          "base_uri": "https://localhost:8080/"
        },
        "id": "kqujtz1vn3Wk",
        "outputId": "094f31f1-b1f0-46d8-aab9-117725df8e0b"
      },
      "execution_count": null,
      "outputs": [
        {
          "output_type": "stream",
          "name": "stdout",
          "text": [
            "type                    0\n",
            "fixed acidity           0\n",
            "volatile acidity        8\n",
            "citric acid             3\n",
            "residual sugar          2\n",
            "chlorides               2\n",
            "free sulfur dioxide     0\n",
            "total sulfur dioxide    0\n",
            "density                 0\n",
            "pH                      9\n",
            "sulphates               4\n",
            "alcohol                 0\n",
            "quality                 0\n",
            "dtype: int64\n",
            "Counter({3: 2836, 2: 2836, 4: 2836, 5: 2836, 1: 2836, 0: 2836, 6: 2836})\n",
            "Counter({3: 2836, 2: 2836, 4: 2836, 5: 2836, 1: 2836, 0: 2836, 6: 2836})\n"
          ]
        }
      ]
    },
    {
      "cell_type": "code",
      "source": [
        "#Identifying Outliers by ploting\n",
        "\n",
        "from matplotlib import pyplot as plt\n",
        "import seaborn as sns\n",
        "sns.boxplot(df['pH'])\n",
        "plt.show()"
      ],
      "metadata": {
        "colab": {
          "base_uri": "https://localhost:8080/",
          "height": 411
        },
        "id": "YhwVVhcRn9PC",
        "outputId": "5b029265-73ce-48f3-e50a-06162350d94d"
      },
      "execution_count": null,
      "outputs": [
        {
          "output_type": "display_data",
          "data": {
            "text/plain": [
              "<Figure size 640x480 with 1 Axes>"
            ],
            "image/png": "[encoded data removed]"
          },
          "metadata": {}
        }
      ]
    },
    {
      "source": [
        "#Dealing with Outliers using Interquantile Range\n",
        "\n",
        "# Convert 'fixed acidity' to numeric, coercing errors to NaN\n",
        "df['fixed acidity'] = pd.to_numeric(df['fixed acidity'], errors='coerce')\n",
        "\n",
        "# Drop rows with NaN in 'fixed acidity' if needed\n",
        "df.dropna(subset=['fixed acidity'], inplace=True)\n",
        "\n",
        "print(df['fixed acidity'])\n",
        "Q1 = df['fixed acidity'].quantile(0.25)\n",
        "Q3 = df['fixed acidity'].quantile(0.75)\n",
        "\n",
        "IQR = Q3 - Q1\n",
        "print(IQR)\n",
        "\n",
        "upper = Q3 + 1.5*IQR\n",
        "lower = Q1 - 1.5*IQR\n",
        "\n",
        "print(upper)\n",
        "print(lower)\n",
        "\n",
        "out1=df[df['fixed acidity'] < lower].values\n",
        "out2=df[df['fixed acidity'] > upper].values\n",
        "\n",
        "df['fixed acidity'].replace(out1,lower,inplace=True)\n",
        "df['fixed acidity'].replace(out2,upper,inplace=True)\n",
        "\n",
        "print(df['fixed acidity'])"
      ],
      "cell_type": "code",
      "metadata": {
        "colab": {
          "base_uri": "https://localhost:8080/"
        },
        "id": "SFzLmMMpoh_k",
        "outputId": "cd8bbc5f-c851-46dc-ea90-8016418ecc92"
      },
      "execution_count": null,
      "outputs": [
        {
          "output_type": "stream",
          "name": "stdout",
          "text": [
            "0       0\n",
            "1       0\n",
            "2       1\n",
            "3       0\n",
            "4       0\n",
            "       ..\n",
            "6492    0\n",
            "6493    0\n",
            "6494    0\n",
            "6495    0\n",
            "6496    0\n",
            "Name: fixed acidity, Length: 6497, dtype: int64\n",
            "0.0\n",
            "0.0\n",
            "0.0\n",
            "0       0\n",
            "1       0\n",
            "2       1\n",
            "3       0\n",
            "4       0\n",
            "       ..\n",
            "6492    0\n",
            "6493    0\n",
            "6494    0\n",
            "6495    0\n",
            "6496    0\n",
            "Name: fixed acidity, Length: 6497, dtype: int64\n"
          ]
        }
      ]
    },
    {
      "source": [
        "import pandas as pd\n",
        "\n",
        "# Sample DataFrame (you can replace this with your actual DataFrame)\n",
        "# df = pd.read_csv('your_file.csv') # If reading from a CSV file\n",
        "\n",
        "# Ensure 'fixed acidity' is numeric\n",
        "df['fixed acidity'] = pd.to_numeric(df['fixed acidity'], errors='coerce')\n",
        "\n",
        "# Specify the column name you want to print\n",
        "print(df['fixed acidity']) # Replace 'fixed acidity' with the actual column name\n",
        "\n",
        "# Calculate Q1 (25th percentile) and Q3 (75th percentile)\n",
        "Q1 = df['fixed acidity'].quantile(0.25)\n",
        "Q3 = df['fixed acidity'].quantile(0.75)\n",
        "\n",
        "# Compute IQR\n",
        "IQR = Q3 - Q1\n",
        "print(\"IQR:\", IQR)\n",
        "\n",
        "# Determine upper and lower bounds for outliers\n",
        "upper = Q3 + 1.5 * IQR\n",
        "lower = Q1 - 1.5 * IQR\n",
        "\n",
        "print(\"Upper bound:\", upper)\n",
        "print(\"Lower bound:\", lower)\n",
        "\n",
        "# Identify outliers\n",
        "out1 = df['fixed acidity'] < lower\n",
        "out2 = df['fixed acidity'] > upper\n",
        "\n",
        "# Replace outliers with respective bounds\n",
        "df.loc[out1, 'fixed acidity'] = lower\n",
        "df.loc[out2, 'fixed acidity'] = upper\n",
        "\n",
        "print(df['fixed acidity'])"
      ],
      "cell_type": "code",
      "metadata": {
        "colab": {
          "base_uri": "https://localhost:8080/"
        },
        "id": "8_pPYpgFpKfn",
        "outputId": "c7e00668-7d2a-4e29-80a1-8dd525ecf745"
      },
      "execution_count": null,
      "outputs": [
        {
          "output_type": "stream",
          "name": "stdout",
          "text": [
            "0       0\n",
            "1       0\n",
            "2       1\n",
            "3       0\n",
            "4       0\n",
            "       ..\n",
            "6492    0\n",
            "6493    0\n",
            "6494    0\n",
            "6495    0\n",
            "6496    0\n",
            "Name: fixed acidity, Length: 6497, dtype: int64\n",
            "IQR: 0.0\n",
            "Upper bound: 0.0\n",
            "Lower bound: 0.0\n",
            "0       0\n",
            "1       0\n",
            "2       0\n",
            "3       0\n",
            "4       0\n",
            "       ..\n",
            "6492    0\n",
            "6493    0\n",
            "6494    0\n",
            "6495    0\n",
            "6496    0\n",
            "Name: fixed acidity, Length: 6497, dtype: int64\n"
          ]
        }
      ]
    },
    {
      "source": [
        "import pandas as pd\n",
        "from sklearn.decomposition import PCA\n",
        "from sklearn.linear_model import LogisticRegression\n",
        "from sklearn.model_selection import train_test_split\n",
        "from sklearn.metrics import accuracy_score\n",
        "from sklearn.impute import SimpleImputer # Import SimpleImputer\n",
        "\n",
        "logr=LogisticRegression()\n",
        "pca=PCA(n_components=2)\n",
        "\n",
        "X = df.drop('type', axis=1)\n",
        "X = X.drop('quality', axis=1)\n",
        "Y = df['quality']\n",
        "\n",
        "# Impute missing values using SimpleImputer\n",
        "imputer = SimpleImputer(strategy='mean') # Replace 'mean' with your desired strategy\n",
        "X = imputer.fit_transform(X) # Fit and transform to impute NaNs\n",
        "\n",
        "pca.fit(X)\n",
        "X=pca.transform(X)\n",
        "\n",
        "print(X)\n",
        "\n",
        "X_train, X_test, y_train, y_test = train_test_split(X,Y,random_state=0,test_size=0.3)\n",
        "\n",
        "logr.fit(X_train,y_train)\n",
        "\n",
        "y_pred=logr.predict(X_test)\n",
        "print('Accuracy:',accuracy_score(y_test,y_pred))"
      ],
      "cell_type": "code",
      "metadata": {
        "colab": {
          "base_uri": "https://localhost:8080/"
        },
        "id": "wOKsseD0pdJE",
        "outputId": "9e84da62-673a-431e-88c2-0198b3baa908"
      },
      "execution_count": 38,
      "outputs": [
        {
          "output_type": "stream",
          "name": "stdout",
          "text": [
            "[[ 56.13976643   1.56578978]\n",
            " [ 12.0108226  -19.83176033]\n",
            " [-18.35763601   3.81086045]\n",
            " ...\n",
            " [-74.05560409  15.98706743]\n",
            " [-69.46908699  17.98130355]\n",
            " [-74.64664264   4.8223578 ]]\n",
            "Accuracy: 0.4256410256410256\n"
          ]
        },
        {
          "output_type": "stream",
          "name": "stderr",
          "text": [
            "/usr/local/lib/python3.10/dist-packages/sklearn/linear_model/_logistic.py:458: ConvergenceWarning: lbfgs failed to converge (status=1):\n",
            "STOP: TOTAL NO. of ITERATIONS REACHED LIMIT.\n",
            "\n",
            "Increase the number of iterations (max_iter) or scale the data as shown in:\n",
            "    https://scikit-learn.org/stable/modules/preprocessing.html\n",
            "Please also refer to the documentation for alternative solver options:\n",
            "    https://scikit-learn.org/stable/modules/linear_model.html#logistic-regression\n",
            "  n_iter_i = _check_optimize_result(\n"
          ]
        }
      ]
    }
  ]
}