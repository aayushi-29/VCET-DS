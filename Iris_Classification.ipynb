{
  "nbformat": 4,
  "nbformat_minor": 0,
  "metadata": {
    "colab": {
      "provenance": [],
      "collapsed_sections": [
        "6PhYe8BRIFIW",
        "aGUqgcSLIwEg"
      ],
      "authorship_tag": "ABX9TyP+4OdriVRKD4eht6NwmWf8",
      "include_colab_link": true
    },
    "kernelspec": {
      "name": "python3",
      "display_name": "Python 3"
    },
    "language_info": {
      "name": "python"
    }
  },
  "cells": [
    {
      "cell_type": "markdown",
      "metadata": {
        "id": "view-in-github",
        "colab_type": "text"
      },
      "source": [
        "<a href=\"https://colab.research.google.com/github/aayushi-29/VCET-DS/blob/main/Iris_Classification.ipynb\" target=\"_parent\"><img src=\"https://colab.research.google.com/assets/colab-badge.svg\" alt=\"Open In Colab\"/></a>"
      ]
    },
    {
      "cell_type": "markdown",
      "source": [
        "# ***ML-CLASSIFICATION***"
      ],
      "metadata": {
        "id": "6PhYe8BRIFIW"
      }
    },
    {
      "cell_type": "code",
      "execution_count": 1,
      "metadata": {
        "colab": {
          "base_uri": "https://localhost:8080/"
        },
        "id": "eLnPoKg3H1aS",
        "outputId": "5e72221d-40d5-4644-ad6c-a29abeaea4af"
      },
      "outputs": [
        {
          "output_type": "stream",
          "name": "stdout",
          "text": [
            "     SepalLengthCm  SepalWidthCm  PetalLengthCm  PetalWidthCm\n",
            "118            7.7           2.6            6.9           2.3\n",
            "18             5.7           3.8            1.7           0.3\n",
            "4              5.0           3.6            1.4           0.2\n",
            "45             4.8           3.0            1.4           0.3\n",
            "59             5.2           2.7            3.9           1.4\n",
            "..             ...           ...            ...           ...\n",
            "133            6.3           2.8            5.1           1.5\n",
            "137            6.4           3.1            5.5           1.8\n",
            "72             6.3           2.5            4.9           1.5\n",
            "140            6.7           3.1            5.6           2.4\n",
            "37             4.9           3.1            1.5           0.1\n",
            "\n",
            "[105 rows x 4 columns]\n",
            "     SepalLengthCm  SepalWidthCm  PetalLengthCm  PetalWidthCm\n",
            "14             5.8           4.0            1.2           0.2\n",
            "98             5.1           2.5            3.0           1.1\n",
            "75             6.6           3.0            4.4           1.4\n",
            "16             5.4           3.9            1.3           0.4\n",
            "131            7.9           3.8            6.4           2.0\n",
            "56             6.3           3.3            4.7           1.6\n",
            "141            6.9           3.1            5.1           2.3\n",
            "44             5.1           3.8            1.9           0.4\n",
            "29             4.7           3.2            1.6           0.2\n",
            "120            6.9           3.2            5.7           2.3\n",
            "94             5.6           2.7            4.2           1.3\n",
            "5              5.4           3.9            1.7           0.4\n",
            "102            7.1           3.0            5.9           2.1\n",
            "51             6.4           3.2            4.5           1.5\n",
            "78             6.0           2.9            4.5           1.5\n",
            "42             4.4           3.2            1.3           0.2\n",
            "92             5.8           2.6            4.0           1.2\n",
            "66             5.6           3.0            4.5           1.5\n",
            "31             5.4           3.4            1.5           0.4\n",
            "35             5.0           3.2            1.2           0.2\n",
            "90             5.5           2.6            4.4           1.2\n",
            "84             5.4           3.0            4.5           1.5\n",
            "77             6.7           3.0            5.0           1.7\n",
            "40             5.0           3.5            1.3           0.3\n",
            "125            7.2           3.2            6.0           1.8\n",
            "99             5.7           2.8            4.1           1.3\n",
            "33             5.5           4.2            1.4           0.2\n",
            "19             5.1           3.8            1.5           0.3\n",
            "73             6.1           2.8            4.7           1.2\n",
            "146            6.3           2.5            5.0           1.9\n",
            "91             6.1           3.0            4.6           1.4\n",
            "135            7.7           3.0            6.1           2.3\n",
            "69             5.6           2.5            3.9           1.1\n",
            "128            6.4           2.8            5.6           2.1\n",
            "114            5.8           2.8            5.1           2.4\n",
            "48             5.3           3.7            1.5           0.2\n",
            "53             5.5           2.3            4.0           1.3\n",
            "28             5.2           3.4            1.4           0.2\n",
            "54             6.5           2.8            4.6           1.5\n",
            "108            6.7           2.5            5.8           1.8\n",
            "112            6.8           3.0            5.5           2.1\n",
            "17             5.1           3.5            1.4           0.3\n",
            "119            6.0           2.2            5.0           1.5\n",
            "103            6.3           2.9            5.6           1.8\n",
            "58             6.6           2.9            4.6           1.3\n",
            "118     Iris-virginica\n",
            "18         Iris-setosa\n",
            "4          Iris-setosa\n",
            "45         Iris-setosa\n",
            "59     Iris-versicolor\n",
            "            ...       \n",
            "133     Iris-virginica\n",
            "137     Iris-virginica\n",
            "72     Iris-versicolor\n",
            "140     Iris-virginica\n",
            "37         Iris-setosa\n",
            "Name: Species, Length: 105, dtype: object\n",
            "14         Iris-setosa\n",
            "98     Iris-versicolor\n",
            "75     Iris-versicolor\n",
            "16         Iris-setosa\n",
            "131     Iris-virginica\n",
            "56     Iris-versicolor\n",
            "141     Iris-virginica\n",
            "44         Iris-setosa\n",
            "29         Iris-setosa\n",
            "120     Iris-virginica\n",
            "94     Iris-versicolor\n",
            "5          Iris-setosa\n",
            "102     Iris-virginica\n",
            "51     Iris-versicolor\n",
            "78     Iris-versicolor\n",
            "42         Iris-setosa\n",
            "92     Iris-versicolor\n",
            "66     Iris-versicolor\n",
            "31         Iris-setosa\n",
            "35         Iris-setosa\n",
            "90     Iris-versicolor\n",
            "84     Iris-versicolor\n",
            "77     Iris-versicolor\n",
            "40         Iris-setosa\n",
            "125     Iris-virginica\n",
            "99     Iris-versicolor\n",
            "33         Iris-setosa\n",
            "19         Iris-setosa\n",
            "73     Iris-versicolor\n",
            "146     Iris-virginica\n",
            "91     Iris-versicolor\n",
            "135     Iris-virginica\n",
            "69     Iris-versicolor\n",
            "128     Iris-virginica\n",
            "114     Iris-virginica\n",
            "48         Iris-setosa\n",
            "53     Iris-versicolor\n",
            "28         Iris-setosa\n",
            "54     Iris-versicolor\n",
            "108     Iris-virginica\n",
            "112     Iris-virginica\n",
            "17         Iris-setosa\n",
            "119     Iris-virginica\n",
            "103     Iris-virginica\n",
            "58     Iris-versicolor\n",
            "Name: Species, dtype: object\n",
            "0.9777777777777777\n",
            "                 precision    recall  f1-score   support\n",
            "\n",
            "    Iris-setosa       1.00      1.00      1.00        14\n",
            "Iris-versicolor       1.00      0.94      0.97        18\n",
            " Iris-virginica       0.93      1.00      0.96        13\n",
            "\n",
            "       accuracy                           0.98        45\n",
            "      macro avg       0.98      0.98      0.98        45\n",
            "   weighted avg       0.98      0.98      0.98        45\n",
            "\n",
            "[[14  0  0]\n",
            " [ 0 17  1]\n",
            " [ 0  0 13]]\n"
          ]
        },
        {
          "output_type": "stream",
          "name": "stderr",
          "text": [
            "/usr/local/lib/python3.10/dist-packages/sklearn/linear_model/_logistic.py:458: ConvergenceWarning: lbfgs failed to converge (status=1):\n",
            "STOP: TOTAL NO. of ITERATIONS REACHED LIMIT.\n",
            "\n",
            "Increase the number of iterations (max_iter) or scale the data as shown in:\n",
            "    https://scikit-learn.org/stable/modules/preprocessing.html\n",
            "Please also refer to the documentation for alternative solver options:\n",
            "    https://scikit-learn.org/stable/modules/linear_model.html#logistic-regression\n",
            "  n_iter_i = _check_optimize_result(\n"
          ]
        }
      ],
      "source": [
        "#1. logistic Regression\n",
        "\n",
        "import pandas as pd\n",
        "from sklearn.linear_model import LogisticRegression\n",
        "from sklearn.model_selection import train_test_split\n",
        "from sklearn.metrics import accuracy_score\n",
        "from sklearn.metrics import classification_report\n",
        "from sklearn.metrics import confusion_matrix\n",
        "\n",
        "\n",
        "logr=LogisticRegression()\n",
        "\n",
        "df=pd.read_csv(\"Iris.csv\")\n",
        "\n",
        "x = df.drop('Id', axis=1)\n",
        "x = x.drop('Species', axis=1)\n",
        "y = df['Species']\n",
        "\n",
        "X_train, X_test, y_train, y_test = train_test_split(x,y,random_state=1,test_size=0.3)\n",
        "\n",
        "print(X_train)\n",
        "print(X_test)\n",
        "print(y_train)\n",
        "print(y_test)\n",
        "\n",
        "logr.fit(X_train,y_train)\n",
        "\n",
        "y_pred=logr.predict(X_test)\n",
        "\n",
        "# print(train.coef_)\n",
        "# print(train.intercept_)\n",
        "\n",
        "print(accuracy_score(y_test,y_pred))\n",
        "print(classification_report(y_test,y_pred))\n",
        "print(confusion_matrix(y_test,y_pred))\n"
      ]
    },
    {
      "cell_type": "code",
      "source": [
        "#2. Naive Bayes Classifier\n",
        "\n",
        "from sklearn.naive_bayes import GaussianNB\n",
        "\n",
        "from sklearn.model_selection import train_test_split\n",
        "from sklearn.metrics import  accuracy_score\n",
        "\n",
        "nb=GaussianNB()\n",
        "\n",
        "X_train, X_test, y_train, y_test = train_test_split(x, y, random_state=0,test_size=0.4)\n",
        "\n",
        "nb.fit(X_train,y_train)\n",
        "\n",
        "y_pred1=nb.predict(X_test)\n",
        "\n",
        "print(\"Naive Bayes: \",accuracy_score(y_test,y_pred1))"
      ],
      "metadata": {
        "colab": {
          "base_uri": "https://localhost:8080/"
        },
        "id": "PLfY99jUIOYp",
        "outputId": "0a6730ba-33e9-4505-cbae-5195a7b8b189"
      },
      "execution_count": 2,
      "outputs": [
        {
          "output_type": "stream",
          "name": "stdout",
          "text": [
            "Naive Bayes:  0.9333333333333333\n"
          ]
        }
      ]
    },
    {
      "cell_type": "code",
      "source": [
        "# 3. KNN\n",
        "\n",
        "from sklearn.model_selection import train_test_split\n",
        "from sklearn.neighbors import KNeighborsClassifier\n",
        "from sklearn.metrics import accuracy_score\n",
        "\n",
        "knn=KNeighborsClassifier(n_neighbors=5)\n",
        "\n",
        "X_train,X_test,y_train,y_test=train_test_split(x,y,random_state=0)\n",
        "\n",
        "train=knn.fit(X_train,y_train)\n",
        "\n",
        "y_pred=knn.predict(X_test)\n",
        "\n",
        "print('KNN:',accuracy_score(y_test,y_pred))"
      ],
      "metadata": {
        "colab": {
          "base_uri": "https://localhost:8080/"
        },
        "id": "1sFuwvauIuyg",
        "outputId": "df5ac12c-b053-4e5d-ff2b-ce8c8f3f884c"
      },
      "execution_count": 3,
      "outputs": [
        {
          "output_type": "stream",
          "name": "stdout",
          "text": [
            "KNN: 0.9736842105263158\n"
          ]
        }
      ]
    },
    {
      "cell_type": "code",
      "source": [
        "#4. Decision Tree\n",
        "\n",
        "from sklearn import tree\n",
        "from sklearn.metrics import accuracy_score\n",
        "from sklearn.model_selection import train_test_split\n",
        "\n",
        "dt=tree.DecisionTreeClassifier()\n",
        "\n",
        "X_train,X_test,y_train,y_test=train_test_split(x,y,random_state=0,test_size=0.3)\n",
        "\n",
        "train=dt.fit(X_train,y_train)\n",
        "\n",
        "y_pred=dt.predict(X_test)\n",
        "\n",
        "print('DECISION TREE:',accuracy_score(y_test,y_pred))"
      ],
      "metadata": {
        "colab": {
          "base_uri": "https://localhost:8080/"
        },
        "id": "q8MRhuzaI470",
        "outputId": "da819881-fc49-417b-be5a-eeac1e2bde13"
      },
      "execution_count": 4,
      "outputs": [
        {
          "output_type": "stream",
          "name": "stdout",
          "text": [
            "DECISION TREE: 0.9777777777777777\n"
          ]
        }
      ]
    },
    {
      "cell_type": "code",
      "source": [
        "# 5. Random Forest\n",
        "\n",
        "from sklearn.model_selection import train_test_split\n",
        "from sklearn.metrics import accuracy_score\n",
        "from sklearn.ensemble import RandomForestClassifier\n",
        "\n",
        "rf=RandomForestClassifier()\n",
        "\n",
        "X_train,X_test,y_train,y_test=train_test_split(x,y,random_state=0,test_size=0.3)\n",
        "\n",
        "train=rf.fit(X_train,y_train)\n",
        "\n",
        "y_pred=rf.predict(X_test)\n",
        "\n",
        "print('RANDOM FOREST:',accuracy_score(y_test,y_pred))"
      ],
      "metadata": {
        "colab": {
          "base_uri": "https://localhost:8080/"
        },
        "id": "lVkYdGUFI_yi",
        "outputId": "6011bb03-137b-45e5-bd0a-117f2358e44a"
      },
      "execution_count": 6,
      "outputs": [
        {
          "output_type": "stream",
          "name": "stdout",
          "text": [
            "RANDOM FOREST: 0.9777777777777777\n"
          ]
        }
      ]
    },
    {
      "cell_type": "code",
      "source": [
        "# 6. Gradient Boosting\n",
        "\n",
        "from sklearn.ensemble import GradientBoostingClassifier\n",
        "\n",
        "gbm=GradientBoostingClassifier(n_estimators=10)\n",
        "\n",
        "X_train,X_test,Y_train,Y_test=train_test_split(x,y,random_state=0,test_size=0.2)\n",
        "\n",
        "gbm.fit(X_train,Y_train)\n",
        "\n",
        "y_pred=gbm.predict(X_test)\n",
        "\n",
        "print(\"GBM: \",accuracy_score(Y_test,y_pred))"
      ],
      "metadata": {
        "colab": {
          "base_uri": "https://localhost:8080/"
        },
        "id": "CygtAzHtJG97",
        "outputId": "fc7af17b-44d1-47a6-f4c7-17ea1d17082f"
      },
      "execution_count": 7,
      "outputs": [
        {
          "output_type": "stream",
          "name": "stdout",
          "text": [
            "GBM:  1.0\n"
          ]
        }
      ]
    },
    {
      "cell_type": "markdown",
      "source": [
        "# ***DATA ENGINEERING***"
      ],
      "metadata": {
        "id": "aGUqgcSLIwEg"
      }
    },
    {
      "cell_type": "code",
      "source": [
        "#Import the datset\n",
        "import pandas as pd\n",
        "df=pd.read_csv(\"Iris.csv\")\n",
        "print(df.head(5))"
      ],
      "metadata": {
        "colab": {
          "base_uri": "https://localhost:8080/"
        },
        "id": "RvmaOmS2Izj8",
        "outputId": "fe69b82d-01b3-4273-8981-869adedd8c73"
      },
      "execution_count": 8,
      "outputs": [
        {
          "output_type": "stream",
          "name": "stdout",
          "text": [
            "   Id  SepalLengthCm  SepalWidthCm  PetalLengthCm  PetalWidthCm      Species\n",
            "0   1            5.1           3.5            1.4           0.2  Iris-setosa\n",
            "1   2            4.9           3.0            1.4           0.2  Iris-setosa\n",
            "2   3            4.7           3.2            1.3           0.2  Iris-setosa\n",
            "3   4            4.6           3.1            1.5           0.2  Iris-setosa\n",
            "4   5            5.0           3.6            1.4           0.2  Iris-setosa\n"
          ]
        }
      ]
    },
    {
      "cell_type": "code",
      "source": [
        "import pandas as pd\n",
        "\n",
        "df=pd.read_csv(\"Iris.csv\")\n",
        "\n",
        "X = df.drop('Id', axis=1)\n",
        "X = X.drop('Species', axis=1)\n",
        "Y = df['Species']\n",
        "print(X)\n",
        "print(Y)"
      ],
      "metadata": {
        "colab": {
          "base_uri": "https://localhost:8080/"
        },
        "id": "sdqasgT4JHAw",
        "outputId": "fa272d69-2cbe-4feb-bb4c-789b82bb966f"
      },
      "execution_count": 9,
      "outputs": [
        {
          "output_type": "stream",
          "name": "stdout",
          "text": [
            "     SepalLengthCm  SepalWidthCm  PetalLengthCm  PetalWidthCm\n",
            "0              5.1           3.5            1.4           0.2\n",
            "1              4.9           3.0            1.4           0.2\n",
            "2              4.7           3.2            1.3           0.2\n",
            "3              4.6           3.1            1.5           0.2\n",
            "4              5.0           3.6            1.4           0.2\n",
            "..             ...           ...            ...           ...\n",
            "145            6.7           3.0            5.2           2.3\n",
            "146            6.3           2.5            5.0           1.9\n",
            "147            6.5           3.0            5.2           2.0\n",
            "148            6.2           3.4            5.4           2.3\n",
            "149            5.9           3.0            5.1           1.8\n",
            "\n",
            "[150 rows x 4 columns]\n",
            "0         Iris-setosa\n",
            "1         Iris-setosa\n",
            "2         Iris-setosa\n",
            "3         Iris-setosa\n",
            "4         Iris-setosa\n",
            "            ...      \n",
            "145    Iris-virginica\n",
            "146    Iris-virginica\n",
            "147    Iris-virginica\n",
            "148    Iris-virginica\n",
            "149    Iris-virginica\n",
            "Name: Species, Length: 150, dtype: object\n"
          ]
        }
      ]
    },
    {
      "cell_type": "code",
      "source": [
        "# Feature Selection 1\n",
        "from sklearn.feature_selection import SelectKBest\n",
        "from sklearn.feature_selection import chi2\n",
        "\n",
        "bestfeatures = SelectKBest(score_func=chi2, k='all')\n",
        "fit = bestfeatures.fit(X,Y)\n",
        "dfscores = pd.DataFrame(fit.scores_)\n",
        "dfcolumns = pd.DataFrame(X.columns)\n",
        "featuresScores = pd.concat([dfcolumns, dfscores], axis=1)\n",
        "featuresScores.columns = ['Specs', 'Score']\n",
        "\n",
        "print(featuresScores)"
      ],
      "metadata": {
        "colab": {
          "base_uri": "https://localhost:8080/"
        },
        "id": "deVVortUJuD_",
        "outputId": "0612712b-f041-413e-997b-cf7fc582e19c"
      },
      "execution_count": 10,
      "outputs": [
        {
          "output_type": "stream",
          "name": "stdout",
          "text": [
            "           Specs       Score\n",
            "0  SepalLengthCm   10.817821\n",
            "1   SepalWidthCm    3.594499\n",
            "2  PetalLengthCm  116.169847\n",
            "3   PetalWidthCm   67.244828\n"
          ]
        }
      ]
    },
    {
      "cell_type": "code",
      "source": [
        "#Feature Selection 2\n",
        "\n",
        "from sklearn.ensemble import ExtraTreesClassifier\n",
        "import matplotlib.pyplot as plt\n",
        "\n",
        "model = ExtraTreesClassifier()\n",
        "model.fit(X,Y)\n",
        "print(model.feature_importances_)\n",
        "\n",
        "feat_importance = pd.Series(model.feature_importances_, index=X.columns)\n",
        "feat_importance.nlargest(4).plot(kind='barh')\n",
        "plt.show()"
      ],
      "metadata": {
        "colab": {
          "base_uri": "https://localhost:8080/",
          "height": 447
        },
        "id": "xloDvZPpJ3Zc",
        "outputId": "74e961b4-911b-4126-e239-78789273b4b1"
      },
      "execution_count": 11,
      "outputs": [
        {
          "output_type": "stream",
          "name": "stdout",
          "text": [
            "[0.12463633 0.07273067 0.35660597 0.44602703]\n"
          ]
        },
        {
          "output_type": "display_data",
          "data": {
            "text/plain": [
              "<Figure size 640x480 with 1 Axes>"
            ],
            "image/png": "[encoded data removed]"
          },
          "metadata": {}
        }
      ]
    },
    {
      "cell_type": "code",
      "source": [
        "#Numerical to Categorical\n",
        "\n",
        "from sklearn.preprocessing import LabelEncoder\n",
        "\n",
        "\n",
        "df['SepalLengthCm']=pd.cut(df['SepalLengthCm'],3,labels=['0','1','2'])\n",
        "df['SepalWidthCm']=pd.cut(df['SepalWidthCm'],3,labels=['0','1','2'])\n",
        "df['PetalLengthCm']=pd.cut(df['PetalLengthCm'],3,labels=['0','1','2'])\n",
        "df['PetalWidthCm']=pd.cut(df['PetalWidthCm'],3,labels=['0','1','2'])\n",
        "\n",
        "print(df)\n",
        "\n",
        "X = df.drop('Id', axis=1)\n",
        "X = X.drop('Species', axis=1)\n",
        "Y = df['Species']\n",
        "print(Y)\n",
        "le=LabelEncoder()\n",
        "le.fit(Y)\n",
        "Y = le.transform(Y)\n",
        "print(Y)\n"
      ],
      "metadata": {
        "colab": {
          "base_uri": "https://localhost:8080/"
        },
        "id": "_n7J4xr8J98R",
        "outputId": "7c431617-5b7f-4c7b-9a8d-bbb68caadbf4"
      },
      "execution_count": 12,
      "outputs": [
        {
          "output_type": "stream",
          "name": "stdout",
          "text": [
            "      Id SepalLengthCm SepalWidthCm PetalLengthCm PetalWidthCm         Species\n",
            "0      1             0            1             0            0     Iris-setosa\n",
            "1      2             0            1             0            0     Iris-setosa\n",
            "2      3             0            1             0            0     Iris-setosa\n",
            "3      4             0            1             0            0     Iris-setosa\n",
            "4      5             0            1             0            0     Iris-setosa\n",
            "..   ...           ...          ...           ...          ...             ...\n",
            "145  146             1            1             2            2  Iris-virginica\n",
            "146  147             1            0             2            2  Iris-virginica\n",
            "147  148             1            1             2            2  Iris-virginica\n",
            "148  149             1            1             2            2  Iris-virginica\n",
            "149  150             1            1             2            2  Iris-virginica\n",
            "\n",
            "[150 rows x 6 columns]\n",
            "0         Iris-setosa\n",
            "1         Iris-setosa\n",
            "2         Iris-setosa\n",
            "3         Iris-setosa\n",
            "4         Iris-setosa\n",
            "            ...      \n",
            "145    Iris-virginica\n",
            "146    Iris-virginica\n",
            "147    Iris-virginica\n",
            "148    Iris-virginica\n",
            "149    Iris-virginica\n",
            "Name: Species, Length: 150, dtype: object\n",
            "[0 0 0 0 0 0 0 0 0 0 0 0 0 0 0 0 0 0 0 0 0 0 0 0 0 0 0 0 0 0 0 0 0 0 0 0 0\n",
            " 0 0 0 0 0 0 0 0 0 0 0 0 0 1 1 1 1 1 1 1 1 1 1 1 1 1 1 1 1 1 1 1 1 1 1 1 1\n",
            " 1 1 1 1 1 1 1 1 1 1 1 1 1 1 1 1 1 1 1 1 1 1 1 1 1 1 2 2 2 2 2 2 2 2 2 2 2\n",
            " 2 2 2 2 2 2 2 2 2 2 2 2 2 2 2 2 2 2 2 2 2 2 2 2 2 2 2 2 2 2 2 2 2 2 2 2 2\n",
            " 2 2]\n"
          ]
        }
      ]
    },
    {
      "cell_type": "code",
      "source": [
        "#Categorical to Numerical\n",
        "le=LabelEncoder()\n",
        "le.fit(Y)\n",
        "Y = le.transform(Y)\n",
        "print(Y)"
      ],
      "metadata": {
        "colab": {
          "base_uri": "https://localhost:8080/"
        },
        "id": "hrS8RlB1KAtU",
        "outputId": "aa046a58-e065-4b44-99fc-d25fc0071c08"
      },
      "execution_count": 13,
      "outputs": [
        {
          "output_type": "stream",
          "name": "stdout",
          "text": [
            "[0 0 0 0 0 0 0 0 0 0 0 0 0 0 0 0 0 0 0 0 0 0 0 0 0 0 0 0 0 0 0 0 0 0 0 0 0\n",
            " 0 0 0 0 0 0 0 0 0 0 0 0 0 1 1 1 1 1 1 1 1 1 1 1 1 1 1 1 1 1 1 1 1 1 1 1 1\n",
            " 1 1 1 1 1 1 1 1 1 1 1 1 1 1 1 1 1 1 1 1 1 1 1 1 1 1 2 2 2 2 2 2 2 2 2 2 2\n",
            " 2 2 2 2 2 2 2 2 2 2 2 2 2 2 2 2 2 2 2 2 2 2 2 2 2 2 2 2 2 2 2 2 2 2 2 2 2\n",
            " 2 2]\n"
          ]
        }
      ]
    },
    {
      "cell_type": "code",
      "source": [
        "print(df.isnull().sum())"
      ],
      "metadata": {
        "id": "F6odfk56KB7P"
      },
      "execution_count": null,
      "outputs": []
    },
    {
      "cell_type": "code",
      "source": [
        "#Dealing with missing values\n",
        "\n",
        "df['SepalLengthCm'].fillna(df['SepalLengthCm'].mode()[0], inplace=True)\n",
        "\n",
        "df['Species'].fillna(df['Species'].mode()[0], inplace=True)\n",
        "print(df.head())"
      ],
      "metadata": {
        "colab": {
          "base_uri": "https://localhost:8080/"
        },
        "id": "ft214ohtKEs7",
        "outputId": "783bca28-2ffb-4d51-c039-4be8a0e62892"
      },
      "execution_count": 14,
      "outputs": [
        {
          "output_type": "stream",
          "name": "stdout",
          "text": [
            "   Id SepalLengthCm SepalWidthCm PetalLengthCm PetalWidthCm      Species\n",
            "0   1             0            1             0            0  Iris-setosa\n",
            "1   2             0            1             0            0  Iris-setosa\n",
            "2   3             0            1             0            0  Iris-setosa\n",
            "3   4             0            1             0            0  Iris-setosa\n",
            "4   5             0            1             0            0  Iris-setosa\n"
          ]
        }
      ]
    },
    {
      "cell_type": "code",
      "source": [
        "import pandas as pd\n",
        "\n",
        "# Print the count of missing values for each column\n",
        "print(\"Missing values count before imputation:\")\n",
        "print(df.isnull().sum())\n",
        "\n",
        "# Check if 'Item_Weight' is in the DataFrame columns\n",
        "if 'Item_Weight' in df.columns:\n",
        "    # Imputing numerical values (choose one method: mean, median, or mode)\n",
        "    # Method: Mean\n",
        "    df['Item_Weight'].fillna(df['Item_Weight'].mean(), inplace=True)\n",
        "else:\n",
        "    print(\"Column 'Item_Weight' not found in the DataFrame.\")\n",
        "\n",
        "# Similarly, check if 'Outlet_Size' exists before imputing\n",
        "if 'Outlet_Size' in df.columns:\n",
        "    # Imputing categorical values with a specific value, e.g., 'Medium'\n",
        "    df['Outlet_Size'].fillna('Medium', inplace=True)\n",
        "else:\n",
        "    print(\"Column 'Outlet_Size' not found in the DataFrame.\")\n",
        "\n",
        "# Print the count of missing values after imputation\n",
        "print(\"Missing values count after imputation:\")\n",
        "print(df.isnull().sum())"
      ],
      "metadata": {
        "colab": {
          "base_uri": "https://localhost:8080/"
        },
        "id": "5eaYdRkQKWw0",
        "outputId": "4b25b1e2-4fff-412f-eb9a-e73e24e35ea1"
      },
      "execution_count": 15,
      "outputs": [
        {
          "output_type": "stream",
          "name": "stdout",
          "text": [
            "Missing values count before imputation:\n",
            "Id               0\n",
            "SepalLengthCm    0\n",
            "SepalWidthCm     0\n",
            "PetalLengthCm    0\n",
            "PetalWidthCm     0\n",
            "Species          0\n",
            "dtype: int64\n",
            "Column 'Item_Weight' not found in the DataFrame.\n",
            "Column 'Outlet_Size' not found in the DataFrame.\n",
            "Missing values count after imputation:\n",
            "Id               0\n",
            "SepalLengthCm    0\n",
            "SepalWidthCm     0\n",
            "PetalLengthCm    0\n",
            "PetalWidthCm     0\n",
            "Species          0\n",
            "dtype: int64\n"
          ]
        }
      ]
    },
    {
      "cell_type": "code",
      "source": [
        "#Oversampling and Under Sampling\n",
        "\n",
        "from collections import Counter\n",
        "print(Counter(Y))\n",
        "from imblearn.over_sampling import RandomOverSampler     #Random OverSampling\n",
        "ros=RandomOverSampler(random_state=0)\n",
        "X, Y = ros.fit_resample(X,Y)\n",
        "print(Counter(Y))\n",
        "\n",
        "from imblearn.over_sampling import SMOTE                 #Synthetic Minority Oversampling (SMOTE) oversampling\n",
        "sms=SMOTE(random_state=0)\n",
        "X, Y=sms.fit_resample(X,Y)\n",
        "\n",
        "from imblearn.under_sampling import RandomUnderSampler   #Random UnderSampling\n",
        "rus=RandomUnderSampler(random_state=0)\n",
        "X, Y=rus.fit_resample(X,Y)\n"
      ],
      "metadata": {
        "colab": {
          "base_uri": "https://localhost:8080/"
        },
        "id": "idAiWte3Kele",
        "outputId": "eb9fc037-5f3b-43f5-eaac-12c7fb6697d7"
      },
      "execution_count": 16,
      "outputs": [
        {
          "output_type": "stream",
          "name": "stdout",
          "text": [
            "Counter({0: 50, 1: 50, 2: 50})\n",
            "Counter({0: 50, 1: 50, 2: 50})\n"
          ]
        }
      ]
    },
    {
      "cell_type": "code",
      "source": [
        "#Identifying Outliers by ploting\n",
        "\n",
        "from matplotlib import pyplot as plt\n",
        "import seaborn as sns\n",
        "sns.boxplot(df['SepalLengthCm'])\n",
        "plt.show()"
      ],
      "metadata": {
        "colab": {
          "base_uri": "https://localhost:8080/",
          "height": 411
        },
        "id": "mRFdV6UVKgo5",
        "outputId": "e4d0245b-1e04-4ea5-9cda-9d1cd9efe8c9"
      },
      "execution_count": 17,
      "outputs": [
        {
          "output_type": "display_data",
          "data": {
            "text/plain": [
              "<Figure size 640x480 with 1 Axes>"
            ],
            "image/png": "[encoded data removed]"
          },
          "metadata": {}
        }
      ]
    },
    {
      "cell_type": "code",
      "source": [
        "#Dealing with Outliers using Interquantile Range\n",
        "\n",
        "# Convert 'SepalLengthCm' column to numeric, handling errors\n",
        "df['SepalLengthCm'] = pd.to_numeric(df['SepalLengthCm'], errors='coerce')\n",
        "\n",
        "# Drop rows with missing values in 'SepalLengthCm'\n",
        "df.dropna(subset=['SepalLengthCm'], inplace=True)\n",
        "\n",
        "print(df['SepalLengthCm'])\n",
        "Q1 = df['SepalLengthCm'].quantile(0.25)\n",
        "Q3 = df['SepalLengthCm'].quantile(0.75)\n",
        "\n",
        "IQR = Q3 - Q1\n",
        "print(IQR)\n",
        "\n",
        "upper = Q3 + 1.5*IQR\n",
        "lower = Q1 - 1.5*IQR\n",
        "\n",
        "print(upper)\n",
        "print(lower)\n",
        "\n",
        "out1=df[df['SepalLengthCm'] < lower].values\n",
        "out2=df[df['SepalLengthCm'] > upper].values\n",
        "\n",
        "df['SepalLengthCm'].replace(out1,lower,inplace=True)\n",
        "df['SepalLengthCm'].replace(out2,upper,inplace=True)\n",
        "\n",
        "print(df['SepalLengthCm'])"
      ],
      "metadata": {
        "colab": {
          "base_uri": "https://localhost:8080/"
        },
        "id": "P-GHI2VLKoGS",
        "outputId": "b0afa5e8-a15d-406c-fc0a-f63478ad9440"
      },
      "execution_count": 18,
      "outputs": [
        {
          "output_type": "stream",
          "name": "stdout",
          "text": [
            "0      0\n",
            "1      0\n",
            "2      0\n",
            "3      0\n",
            "4      0\n",
            "      ..\n",
            "145    1\n",
            "146    1\n",
            "147    1\n",
            "148    1\n",
            "149    1\n",
            "Name: SepalLengthCm, Length: 150, dtype: int64\n",
            "1.0\n",
            "2.5\n",
            "-1.5\n",
            "0      0\n",
            "1      0\n",
            "2      0\n",
            "3      0\n",
            "4      0\n",
            "      ..\n",
            "145    1\n",
            "146    1\n",
            "147    1\n",
            "148    1\n",
            "149    1\n",
            "Name: SepalLengthCm, Length: 150, dtype: int64\n"
          ]
        }
      ]
    },
    {
      "cell_type": "code",
      "source": [
        "import pandas as pd\n",
        "\n",
        "# Ensure 'SepalLengthCm' is numeric\n",
        "df['SepalLengthCm'] = pd.to_numeric(df['SepalLengthCm'], errors='coerce')\n",
        "\n",
        "print(df['SepalLengthCm'])\n",
        "\n",
        "# Calculate Q1 (25th percentile) and Q3 (75th percentile)\n",
        "Q1 = df['SepalLengthCm'].quantile(0.25)\n",
        "Q3 = df['SepalLengthCm'].quantile(0.75)\n",
        "\n",
        "# Compute IQR\n",
        "IQR = Q3 - Q1\n",
        "print(\"IQR:\", IQR)\n",
        "\n",
        "# Determine upper and lower bounds for outliers\n",
        "upper = Q3 + 1.5 * IQR\n",
        "lower = Q1 - 1.5 * IQR\n",
        "\n",
        "print(\"Upper bound:\", upper)\n",
        "print(\"Lower bound:\", lower)\n",
        "\n",
        "# Identify outliers\n",
        "out1 = df['SepalLengthCm'] < lower\n",
        "out2 = df['SepalLengthCm'] > upper\n",
        "\n",
        "# Replace outliers with respective bounds\n",
        "df.loc[out1, 'SepalLengthCm'] = lower\n",
        "df.loc[out2, 'SepalLengthCm'] = upper\n",
        "\n",
        "print(df['SepalLengthCm'])\n"
      ],
      "metadata": {
        "colab": {
          "base_uri": "https://localhost:8080/"
        },
        "id": "B2hA8dYhKtZ6",
        "outputId": "e491e72f-3b85-46b9-971c-de2e86e1b1d1"
      },
      "execution_count": 19,
      "outputs": [
        {
          "output_type": "stream",
          "name": "stdout",
          "text": [
            "0      0\n",
            "1      0\n",
            "2      0\n",
            "3      0\n",
            "4      0\n",
            "      ..\n",
            "145    1\n",
            "146    1\n",
            "147    1\n",
            "148    1\n",
            "149    1\n",
            "Name: SepalLengthCm, Length: 150, dtype: int64\n",
            "IQR: 1.0\n",
            "Upper bound: 2.5\n",
            "Lower bound: -1.5\n",
            "0      0.0\n",
            "1      0.0\n",
            "2      0.0\n",
            "3      0.0\n",
            "4      0.0\n",
            "      ... \n",
            "145    1.0\n",
            "146    1.0\n",
            "147    1.0\n",
            "148    1.0\n",
            "149    1.0\n",
            "Name: SepalLengthCm, Length: 150, dtype: float64\n"
          ]
        }
      ]
    },
    {
      "cell_type": "code",
      "source": [
        "#Principal Component Analysis(PCA)\n",
        "\n",
        "from sklearn.decomposition import PCA\n",
        "from sklearn.linear_model import LogisticRegression\n",
        "from sklearn.model_selection import train_test_split\n",
        "from sklearn.metrics import accuracy_score\n",
        "\n",
        "logr=LogisticRegression()\n",
        "pca=PCA(n_components=2)\n",
        "\n",
        "X = df.drop('Id', axis=1)\n",
        "X = X.drop('Species', axis=1)\n",
        "Y = df['Species']\n",
        "\n",
        "pca.fit(X)\n",
        "X=pca.transform(X)\n",
        "\n",
        "print(X)\n",
        "\n",
        "X_train, X_test, y_train, y_test = train_test_split(X,Y,random_state=0,test_size=0.3)\n",
        "\n",
        "logr.fit(X_train,y_train)\n",
        "\n",
        "y_pred=logr.predict(X_test)\n",
        "print(accuracy_score(y_test,y_pred))"
      ],
      "metadata": {
        "colab": {
          "base_uri": "https://localhost:8080/"
        },
        "id": "D-Ct8Xw2KyqB",
        "outputId": "325e2d81-c630-455a-f60b-37e8abd258d1"
      },
      "execution_count": 20,
      "outputs": [
        {
          "output_type": "stream",
          "name": "stdout",
          "text": [
            "[[-1.57432707 -0.09529009]\n",
            " [-1.57432707 -0.09529009]\n",
            " [-1.57432707 -0.09529009]\n",
            " [-1.57432707 -0.09529009]\n",
            " [-1.57432707 -0.09529009]\n",
            " [-1.76935658  0.83331324]\n",
            " [-1.57432707 -0.09529009]\n",
            " [-1.57432707 -0.09529009]\n",
            " [-1.57432707 -0.09529009]\n",
            " [-1.57432707 -0.09529009]\n",
            " [-1.76935658  0.83331324]\n",
            " [-1.57432707 -0.09529009]\n",
            " [-1.57432707 -0.09529009]\n",
            " [-1.57432707 -0.09529009]\n",
            " [-1.31321774  1.20402635]\n",
            " [-1.31321774  1.20402635]\n",
            " [-1.76935658  0.83331324]\n",
            " [-1.57432707 -0.09529009]\n",
            " [-1.31321774  1.20402635]\n",
            " [-1.76935658  0.83331324]\n",
            " [-1.57432707 -0.09529009]\n",
            " [-1.76935658  0.83331324]\n",
            " [-1.57432707 -0.09529009]\n",
            " [-1.57432707 -0.09529009]\n",
            " [-1.57432707 -0.09529009]\n",
            " [-1.57432707 -0.09529009]\n",
            " [-1.57432707 -0.09529009]\n",
            " [-1.57432707 -0.09529009]\n",
            " [-1.57432707 -0.09529009]\n",
            " [-1.57432707 -0.09529009]\n",
            " [-1.57432707 -0.09529009]\n",
            " [-1.57432707 -0.09529009]\n",
            " [-1.76935658  0.83331324]\n",
            " [-1.76935658  0.83331324]\n",
            " [-1.57432707 -0.09529009]\n",
            " [-1.57432707 -0.09529009]\n",
            " [-1.57432707 -0.09529009]\n",
            " [-1.57432707 -0.09529009]\n",
            " [-1.57432707 -0.09529009]\n",
            " [-1.57432707 -0.09529009]\n",
            " [-1.57432707 -0.09529009]\n",
            " [-1.37929755 -1.02389342]\n",
            " [-1.57432707 -0.09529009]\n",
            " [-1.57432707 -0.09529009]\n",
            " [-1.76935658  0.83331324]\n",
            " [-1.57432707 -0.09529009]\n",
            " [-1.76935658  0.83331324]\n",
            " [-1.57432707 -0.09529009]\n",
            " [-1.76935658  0.83331324]\n",
            " [-1.57432707 -0.09529009]\n",
            " [ 0.56587325  0.66572287]\n",
            " [ 0.10973441  0.29500976]\n",
            " [ 0.56587325  0.66572287]\n",
            " [-0.15137492 -1.00430667]\n",
            " [ 0.30476392 -0.63359357]\n",
            " [ 0.30476392 -0.63359357]\n",
            " [ 0.10973441  0.29500976]\n",
            " [-0.15137492 -1.00430667]\n",
            " [ 0.10973441  0.29500976]\n",
            " [-0.15137492 -1.00430667]\n",
            " [-0.15137492 -1.00430667]\n",
            " [ 0.10973441  0.29500976]\n",
            " [ 0.30476392 -0.63359357]\n",
            " [ 0.10973441  0.29500976]\n",
            " [ 0.10973441  0.29500976]\n",
            " [ 0.10973441  0.29500976]\n",
            " [ 0.10973441  0.29500976]\n",
            " [ 0.30476392 -0.63359357]\n",
            " [ 0.30476392 -0.63359357]\n",
            " [ 0.30476392 -0.63359357]\n",
            " [ 0.72230767  0.31096051]\n",
            " [ 0.30476392 -0.63359357]\n",
            " [ 0.30476392 -0.63359357]\n",
            " [ 0.30476392 -0.63359357]\n",
            " [ 0.10973441  0.29500976]\n",
            " [ 0.10973441  0.29500976]\n",
            " [ 0.76090276 -0.26288046]\n",
            " [ 0.72508377  0.29864577]\n",
            " [ 0.10973441  0.29500976]\n",
            " [ 0.30476392 -0.63359357]\n",
            " [-0.15137492 -1.00430667]\n",
            " [-0.15137492 -1.00430667]\n",
            " [ 0.30476392 -0.63359357]\n",
            " [ 0.92011329 -0.62995756]\n",
            " [-0.34640444 -0.07570334]\n",
            " [ 0.10973441  0.29500976]\n",
            " [ 0.10973441  0.29500976]\n",
            " [ 0.30476392 -0.63359357]\n",
            " [ 0.10973441  0.29500976]\n",
            " [-0.15137492 -1.00430667]\n",
            " [-0.15137492 -1.00430667]\n",
            " [ 0.10973441  0.29500976]\n",
            " [ 0.30476392 -0.63359357]\n",
            " [-0.15137492 -1.00430667]\n",
            " [ 0.30476392 -0.63359357]\n",
            " [ 0.10973441  0.29500976]\n",
            " [ 0.10973441  0.29500976]\n",
            " [ 0.10973441  0.29500976]\n",
            " [-0.15137492 -1.00430667]\n",
            " [ 0.30476392 -0.63359357]\n",
            " [ 1.33765703  0.31459652]\n",
            " [ 1.53268655 -0.61400682]\n",
            " [ 1.79379588  0.68530962]\n",
            " [ 1.33765703  0.31459652]\n",
            " [ 1.33765703  0.31459652]\n",
            " [ 1.79379588  0.68530962]\n",
            " [-0.15137492 -1.00430667]\n",
            " [ 1.79379588  0.68530962]\n",
            " [ 1.53268655 -0.61400682]\n",
            " [ 1.79379588  0.68530962]\n",
            " [ 1.33765703  0.31459652]\n",
            " [ 1.53268655 -0.61400682]\n",
            " [ 1.79379588  0.68530962]\n",
            " [ 1.53268655 -0.61400682]\n",
            " [ 1.53268655 -0.61400682]\n",
            " [ 1.33765703  0.31459652]\n",
            " [ 1.33765703  0.31459652]\n",
            " [ 1.59876636  1.61391295]\n",
            " [ 1.98882539 -0.24329371]\n",
            " [ 0.92011329 -0.62995756]\n",
            " [ 1.79379588  0.68530962]\n",
            " [ 0.91733719 -0.61764282]\n",
            " [ 1.98882539 -0.24329371]\n",
            " [ 0.91733719 -0.61764282]\n",
            " [ 1.33765703  0.31459652]\n",
            " [ 1.79379588  0.68530962]\n",
            " [ 0.91733719 -0.61764282]\n",
            " [ 0.72230767  0.31096051]\n",
            " [ 1.53268655 -0.61400682]\n",
            " [ 1.18122261  0.66935887]\n",
            " [ 1.98882539 -0.24329371]\n",
            " [ 1.59876636  1.61391295]\n",
            " [ 1.53268655 -0.61400682]\n",
            " [ 0.92011329 -0.62995756]\n",
            " [ 0.92011329 -0.62995756]\n",
            " [ 1.79379588  0.68530962]\n",
            " [ 1.33765703  0.31459652]\n",
            " [ 1.33765703  0.31459652]\n",
            " [ 0.72230767  0.31096051]\n",
            " [ 1.79379588  0.68530962]\n",
            " [ 1.33765703  0.31459652]\n",
            " [ 1.79379588  0.68530962]\n",
            " [ 1.53268655 -0.61400682]\n",
            " [ 1.79379588  0.68530962]\n",
            " [ 1.33765703  0.31459652]\n",
            " [ 1.33765703  0.31459652]\n",
            " [ 1.53268655 -0.61400682]\n",
            " [ 1.33765703  0.31459652]\n",
            " [ 1.33765703  0.31459652]\n",
            " [ 1.33765703  0.31459652]]\n",
            "0.9333333333333333\n"
          ]
        }
      ]
    },
    {
      "cell_type": "markdown",
      "source": [
        "# ***VISUALIZATION***"
      ],
      "metadata": {
        "id": "UevvlY3_K9Tl"
      }
    },
    {
      "cell_type": "code",
      "source": [
        "import pandas as pd\n",
        "from matplotlib import pyplot as plt\n",
        "import seaborn as sns\n",
        "from sklearn.preprocessing import LabelEncoder\n",
        "\n",
        "# Load dataset\n",
        "df = pd.read_csv(\"Iris.csv\")\n",
        "\n",
        "# Preparing X and Y\n",
        "X = df.drop('Id', axis=1)\n",
        "X = X.drop('Species', axis=1)\n",
        "Y = df['Species']\n",
        "print(X)\n",
        "print(Y)"
      ],
      "metadata": {
        "colab": {
          "base_uri": "https://localhost:8080/"
        },
        "id": "E4uGxbzkLBi9",
        "outputId": "8f5e15e1-da02-4e7e-a42b-666b0fec0f1d"
      },
      "execution_count": 22,
      "outputs": [
        {
          "output_type": "stream",
          "name": "stdout",
          "text": [
            "     SepalLengthCm  SepalWidthCm  PetalLengthCm  PetalWidthCm\n",
            "0              5.1           3.5            1.4           0.2\n",
            "1              4.9           3.0            1.4           0.2\n",
            "2              4.7           3.2            1.3           0.2\n",
            "3              4.6           3.1            1.5           0.2\n",
            "4              5.0           3.6            1.4           0.2\n",
            "..             ...           ...            ...           ...\n",
            "145            6.7           3.0            5.2           2.3\n",
            "146            6.3           2.5            5.0           1.9\n",
            "147            6.5           3.0            5.2           2.0\n",
            "148            6.2           3.4            5.4           2.3\n",
            "149            5.9           3.0            5.1           1.8\n",
            "\n",
            "[150 rows x 4 columns]\n",
            "0         Iris-setosa\n",
            "1         Iris-setosa\n",
            "2         Iris-setosa\n",
            "3         Iris-setosa\n",
            "4         Iris-setosa\n",
            "            ...      \n",
            "145    Iris-virginica\n",
            "146    Iris-virginica\n",
            "147    Iris-virginica\n",
            "148    Iris-virginica\n",
            "149    Iris-virginica\n",
            "Name: Species, Length: 150, dtype: object\n"
          ]
        }
      ]
    },
    {
      "source": [
        "# Scatter Plot to find correlations between two continuous variables\n",
        "plt.scatter(df[\"SepalLengthCm\"], df[\"PetalLengthCm\"])\n",
        "plt.title(\"Scatter Plot\")\n",
        "plt.xlabel(\"SepalLengthCm\")\n",
        "plt.ylabel(\"PetalLengthCm\")\n",
        "plt.show()"
      ],
      "cell_type": "code",
      "metadata": {
        "colab": {
          "base_uri": "https://localhost:8080/",
          "height": 472
        },
        "id": "BdkBPj2FMX-7",
        "outputId": "633338c1-f854-448f-9538-9c4ba1b89a7a"
      },
      "execution_count": 24,
      "outputs": [
        {
          "output_type": "display_data",
          "data": {
            "text/plain": [
              "<Figure size 640x480 with 1 Axes>"
            ],
            "image/png": "[encoded data removed]"
          },
          "metadata": {}
        }
      ]
    },
    {
      "cell_type": "code",
      "source": [
        "# Histogram shows the distribution of a continuous variable\n",
        "plt.hist(df[\"PetalLengthCm\"])\n",
        "plt.title(\"Histogram Plot\")\n",
        "plt.xlabel(\"PetalLengthCm\")\n",
        "plt.ylabel(\"Frequency\")\n",
        "plt.show()"
      ],
      "metadata": {
        "colab": {
          "base_uri": "https://localhost:8080/",
          "height": 472
        },
        "id": "uD7aPa7pMeYi",
        "outputId": "80cf7db3-f035-4c49-c077-0242610e6c8d"
      },
      "execution_count": 25,
      "outputs": [
        {
          "output_type": "display_data",
          "data": {
            "text/plain": [
              "<Figure size 640x480 with 1 Axes>"
            ],
            "image/png": "[encoded data removed]"
          },
          "metadata": {}
        }
      ]
    },
    {
      "cell_type": "code",
      "source": [
        "# Encode categorical variables\n",
        "label_encoder = LabelEncoder()\n",
        "for col in df.select_dtypes(include=['object']).columns:\n",
        "    df[col] = label_encoder.fit_transform(df[col].astype(str))\n",
        "\n",
        "# Calculate correlation matrix only for numerical columns\n",
        "numerical_df = df.drop('PetalWidthCm', axis=1)  # Remove the 'Property_Area' column\n",
        "correlation_matrix = numerical_df.corr()  # Calculate correlations\n",
        "\n",
        "\n",
        "# Heatmap of the correlation matrix\n",
        "sns.heatmap(correlation_matrix, annot=True, cmap='coolwarm', fmt='.2f')\n",
        "plt.title(\"Heatmap of Correlation Matrix\")\n",
        "plt.show()"
      ],
      "metadata": {
        "colab": {
          "base_uri": "https://localhost:8080/",
          "height": 548
        },
        "id": "J7BDK7t7MubD",
        "outputId": "8e87b046-2b52-4e68-b47b-e3b2a8c4f2f4"
      },
      "execution_count": 27,
      "outputs": [
        {
          "output_type": "display_data",
          "data": {
            "text/plain": [
              "<Figure size 640x480 with 2 Axes>"
            ],
            "image/png": "[encoded data removed]"
          },
          "metadata": {}
        }
      ]
    }
  ]
}