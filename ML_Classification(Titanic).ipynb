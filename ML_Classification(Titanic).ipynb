{
  "nbformat": 4,
  "nbformat_minor": 0,
  "metadata": {
    "colab": {
      "provenance": [],
      "authorship_tag": "ABX9TyNdcIKQxpvrw5l+/wdfpnDU",
      "include_colab_link": true
    },
    "kernelspec": {
      "name": "python3",
      "display_name": "Python 3"
    },
    "language_info": {
      "name": "python"
    }
  },
  "cells": [
    {
      "cell_type": "markdown",
      "metadata": {
        "id": "view-in-github",
        "colab_type": "text"
      },
      "source": [
        "<a href=\"https://colab.research.google.com/github/aayushi-29/VCET-DS/blob/main/ML_Classification(Titanic).ipynb\" target=\"_parent\"><img src=\"https://colab.research.google.com/assets/colab-badge.svg\" alt=\"Open In Colab\"/></a>"
      ]
    },
    {
      "source": [
        "#1. logistic Regression\n",
        "\n",
        "import pandas as pd\n",
        "from sklearn.linear_model import LogisticRegression\n",
        "from sklearn.model_selection import train_test_split\n",
        "from sklearn.metrics import accuracy_score\n",
        "from sklearn.metrics import classification_report\n",
        "from sklearn.metrics import confusion_matrix\n",
        "from sklearn.preprocessing import LabelEncoder # Import LabelEncoder to handle string columns\n",
        "from sklearn.impute import SimpleImputer # Import SimpleImputer to handle missing values\n",
        "\n",
        "logr=LogisticRegression()\n",
        "\n",
        "df=pd.read_csv(\"tested.csv\")\n",
        "\n",
        "x = df.drop('PassengerId', axis=1)\n",
        "x = x.drop('Embarked', axis=1)\n",
        "y = df['Embarked']\n",
        "\n",
        "# Identify columns with string values (object dtype)\n",
        "object_cols = x.select_dtypes(include=['object']).columns\n",
        "\n",
        "# Apply Label Encoding to string columns\n",
        "label_encoder = LabelEncoder()\n",
        "for col in object_cols:\n",
        "    x[col] = label_encoder.fit_transform(x[col])\n",
        "\n",
        "# Impute missing values using SimpleImputer (replace NaN with most frequent value)\n",
        "imputer = SimpleImputer(strategy='most_frequent')\n",
        "x = imputer.fit_transform(x) # Fit and transform to impute missing values\n",
        "\n",
        "X_train, X_test, y_train, y_test = train_test_split(x,y,random_state=1,test_size=0.3)\n",
        "\n",
        "logr.fit(X_train,y_train)\n",
        "\n",
        "y_pred=logr.predict(X_test)\n",
        "\n",
        "print(accuracy_score(y_test,y_pred))\n",
        "print(classification_report(y_test,y_pred))\n",
        "print(confusion_matrix(y_test,y_pred))"
      ],
      "cell_type": "code",
      "metadata": {
        "colab": {
          "base_uri": "https://localhost:8080/"
        },
        "id": "KYjC0VV_IuJW",
        "outputId": "acd9fe44-6f0a-443c-e5ef-0b2311e98af5"
      },
      "execution_count": 5,
      "outputs": [
        {
          "output_type": "stream",
          "name": "stdout",
          "text": [
            "0.7380952380952381\n",
            "              precision    recall  f1-score   support\n",
            "\n",
            "           C       0.86      0.26      0.40        23\n",
            "           Q       0.00      0.00      0.00        15\n",
            "           S       0.73      0.99      0.84        88\n",
            "\n",
            "    accuracy                           0.74       126\n",
            "   macro avg       0.53      0.42      0.41       126\n",
            "weighted avg       0.67      0.74      0.66       126\n",
            "\n",
            "[[ 6  0 17]\n",
            " [ 0  0 15]\n",
            " [ 1  0 87]]\n"
          ]
        },
        {
          "output_type": "stream",
          "name": "stderr",
          "text": [
            "/usr/local/lib/python3.10/dist-packages/sklearn/linear_model/_logistic.py:458: ConvergenceWarning: lbfgs failed to converge (status=1):\n",
            "STOP: TOTAL NO. of ITERATIONS REACHED LIMIT.\n",
            "\n",
            "Increase the number of iterations (max_iter) or scale the data as shown in:\n",
            "    https://scikit-learn.org/stable/modules/preprocessing.html\n",
            "Please also refer to the documentation for alternative solver options:\n",
            "    https://scikit-learn.org/stable/modules/linear_model.html#logistic-regression\n",
            "  n_iter_i = _check_optimize_result(\n",
            "/usr/local/lib/python3.10/dist-packages/sklearn/metrics/_classification.py:1344: UndefinedMetricWarning: Precision and F-score are ill-defined and being set to 0.0 in labels with no predicted samples. Use `zero_division` parameter to control this behavior.\n",
            "  _warn_prf(average, modifier, msg_start, len(result))\n",
            "/usr/local/lib/python3.10/dist-packages/sklearn/metrics/_classification.py:1344: UndefinedMetricWarning: Precision and F-score are ill-defined and being set to 0.0 in labels with no predicted samples. Use `zero_division` parameter to control this behavior.\n",
            "  _warn_prf(average, modifier, msg_start, len(result))\n",
            "/usr/local/lib/python3.10/dist-packages/sklearn/metrics/_classification.py:1344: UndefinedMetricWarning: Precision and F-score are ill-defined and being set to 0.0 in labels with no predicted samples. Use `zero_division` parameter to control this behavior.\n",
            "  _warn_prf(average, modifier, msg_start, len(result))\n"
          ]
        }
      ]
    },
    {
      "cell_type": "code",
      "source": [
        "#2. Naive Bayes Classifier\n",
        "\n",
        "from sklearn.naive_bayes import GaussianNB\n",
        "\n",
        "from sklearn.model_selection import train_test_split\n",
        "from sklearn.metrics import  accuracy_score\n",
        "\n",
        "nb=GaussianNB()\n",
        "\n",
        "X_train, X_test, y_train, y_test = train_test_split(x, y, random_state=0,test_size=0.4)\n",
        "\n",
        "nb.fit(X_train,y_train)\n",
        "\n",
        "y_pred1=nb.predict(X_test)\n",
        "\n",
        "print(\"Naive Bayes: \",accuracy_score(y_test,y_pred1))"
      ],
      "metadata": {
        "colab": {
          "base_uri": "https://localhost:8080/"
        },
        "id": "U01PVM3aI6Nc",
        "outputId": "171e8fea-341f-4022-8721-3b98edabf5e9"
      },
      "execution_count": 6,
      "outputs": [
        {
          "output_type": "stream",
          "name": "stdout",
          "text": [
            "Naive Bayes:  0.49404761904761907\n"
          ]
        }
      ]
    },
    {
      "cell_type": "code",
      "source": [
        "# 3. KNN\n",
        "\n",
        "from sklearn.model_selection import train_test_split\n",
        "from sklearn.neighbors import KNeighborsClassifier\n",
        "from sklearn.metrics import accuracy_score\n",
        "\n",
        "knn=KNeighborsClassifier(n_neighbors=5)\n",
        "\n",
        "X_train,X_test,y_train,y_test=train_test_split(x,y,random_state=0)\n",
        "\n",
        "train=knn.fit(X_train,y_train)\n",
        "\n",
        "y_pred=knn.predict(X_test)\n",
        "\n",
        "print(accuracy_score(y_test,y_pred))"
      ],
      "metadata": {
        "colab": {
          "base_uri": "https://localhost:8080/"
        },
        "id": "2SUgtbrmJC4b",
        "outputId": "3a39d578-eebf-4cb7-ea38-543ae05a73fb"
      },
      "execution_count": 7,
      "outputs": [
        {
          "output_type": "stream",
          "name": "stdout",
          "text": [
            "0.6857142857142857\n"
          ]
        }
      ]
    },
    {
      "cell_type": "code",
      "source": [
        "#4. Decision Tree\n",
        "\n",
        "from sklearn import tree\n",
        "from sklearn.metrics import accuracy_score\n",
        "from sklearn.model_selection import train_test_split\n",
        "\n",
        "dt=tree.DecisionTreeClassifier()\n",
        "\n",
        "X_train,X_test,y_train,y_test=train_test_split(x,y,random_state=0,test_size=0.3)\n",
        "\n",
        "train=dt.fit(X_train,y_train)\n",
        "\n",
        "y_pred=dt.predict(X_test)\n",
        "\n",
        "print(accuracy_score(y_test,y_pred))"
      ],
      "metadata": {
        "colab": {
          "base_uri": "https://localhost:8080/"
        },
        "id": "_8qA5mo_Jlzp",
        "outputId": "89756f9d-db33-4a0f-e930-ed473222e12a"
      },
      "execution_count": 8,
      "outputs": [
        {
          "output_type": "stream",
          "name": "stdout",
          "text": [
            "0.7936507936507936\n"
          ]
        }
      ]
    },
    {
      "cell_type": "code",
      "source": [
        "# 5. Random Forest\n",
        "\n",
        "from sklearn.model_selection import train_test_split\n",
        "from sklearn.metrics import accuracy_score\n",
        "from sklearn.ensemble import RandomForestClassifier\n",
        "\n",
        "rf=RandomForestClassifier()\n",
        "\n",
        "X_train,X_test,y_train,y_test=train_test_split(x,y,random_state=0,test_size=0.3)\n",
        "\n",
        "train=rf.fit(X_train,y_train)\n",
        "\n",
        "y_pred=rf.predict(X_test)\n",
        "\n",
        "print(accuracy_score(y_test,y_pred))"
      ],
      "metadata": {
        "colab": {
          "base_uri": "https://localhost:8080/"
        },
        "id": "ja7u-3vzJu5t",
        "outputId": "178ec115-7d00-432f-f31f-2f4f32119d09"
      },
      "execution_count": 9,
      "outputs": [
        {
          "output_type": "stream",
          "name": "stdout",
          "text": [
            "0.8095238095238095\n"
          ]
        }
      ]
    },
    {
      "cell_type": "code",
      "source": [
        "# 6. Gradient Boosting (BEST ALGORITHM)\n",
        "\n",
        "from sklearn.ensemble import GradientBoostingClassifier\n",
        "\n",
        "gbm=GradientBoostingClassifier(n_estimators=10)\n",
        "\n",
        "X_train,X_test,Y_train,Y_test=train_test_split(x,y,random_state=0,test_size=0.2)\n",
        "\n",
        "gbm.fit(X_train,Y_train)\n",
        "\n",
        "y_pred=gbm.predict(X_test)\n",
        "\n",
        "print(\"GBM: \",accuracy_score(Y_test,y_pred))"
      ],
      "metadata": {
        "colab": {
          "base_uri": "https://localhost:8080/"
        },
        "id": "56K5vneXJruQ",
        "outputId": "26fe13ad-5ea4-4b0a-caad-dfa1ad5b6d7f"
      },
      "execution_count": 10,
      "outputs": [
        {
          "output_type": "stream",
          "name": "stdout",
          "text": [
            "GBM:  0.8690476190476191\n"
          ]
        }
      ]
    }
  ]
}